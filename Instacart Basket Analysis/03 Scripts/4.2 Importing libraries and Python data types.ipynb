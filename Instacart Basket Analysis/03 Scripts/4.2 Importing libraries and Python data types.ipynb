{
 "cells": [
  {
   "cell_type": "markdown",
   "id": "61f479bc",
   "metadata": {},
   "source": [
    "# 01. Importing libraries"
   ]
  },
  {
   "cell_type": "code",
   "execution_count": 1,
   "id": "c0bef059",
   "metadata": {},
   "outputs": [],
   "source": [
    "# Import libraries\n",
    "import pandas as pd\n",
    "import numpy as np\n",
    "import os"
   ]
  },
  {
   "cell_type": "markdown",
   "id": "c34f66ac",
   "metadata": {},
   "source": [
    "# 02. Data types"
   ]
  },
  {
   "cell_type": "code",
   "execution_count": 27,
   "id": "c154457a",
   "metadata": {},
   "outputs": [
    {
     "data": {
      "text/plain": [
       "100"
      ]
     },
     "execution_count": 27,
     "metadata": {},
     "output_type": "execute_result"
    }
   ],
   "source": [
    "c = 50\n",
    "c * 2"
   ]
  },
  {
   "cell_type": "code",
   "execution_count": 28,
   "id": "c5e5a452",
   "metadata": {},
   "outputs": [
    {
     "data": {
      "text/plain": [
       "100"
      ]
     },
     "execution_count": 28,
     "metadata": {},
     "output_type": "execute_result"
    }
   ],
   "source": [
    "c + c"
   ]
  },
  {
   "cell_type": "code",
   "execution_count": 30,
   "id": "091a86b3",
   "metadata": {},
   "outputs": [
    {
     "data": {
      "text/plain": [
       "100"
      ]
     },
     "execution_count": 30,
     "metadata": {},
     "output_type": "execute_result"
    }
   ],
   "source": [
    "c * 3 - c"
   ]
  },
  {
   "cell_type": "code",
   "execution_count": 31,
   "id": "2bc3eb89",
   "metadata": {},
   "outputs": [],
   "source": [
    "d = 2.345"
   ]
  },
  {
   "cell_type": "code",
   "execution_count": 32,
   "id": "dc9a803c",
   "metadata": {},
   "outputs": [],
   "source": [
    "e = 10.987"
   ]
  },
  {
   "cell_type": "code",
   "execution_count": 33,
   "id": "f01c4e40",
   "metadata": {},
   "outputs": [
    {
     "data": {
      "text/plain": [
       "4.685287846481876"
      ]
     },
     "execution_count": 33,
     "metadata": {},
     "output_type": "execute_result"
    }
   ],
   "source": [
    "e / d"
   ]
  },
  {
   "cell_type": "code",
   "execution_count": 38,
   "id": "2e902853",
   "metadata": {},
   "outputs": [],
   "source": [
    "f = 'Pyt'"
   ]
  },
  {
   "cell_type": "code",
   "execution_count": 35,
   "id": "266d51f2",
   "metadata": {},
   "outputs": [],
   "source": [
    "g = 'hon'"
   ]
  },
  {
   "cell_type": "code",
   "execution_count": 39,
   "id": "d76e68a6",
   "metadata": {},
   "outputs": [
    {
     "data": {
      "text/plain": [
       "'Python'"
      ]
     },
     "execution_count": 39,
     "metadata": {},
     "output_type": "execute_result"
    }
   ],
   "source": [
    "f + g"
   ]
  },
  {
   "cell_type": "code",
   "execution_count": 44,
   "id": "0911106c",
   "metadata": {},
   "outputs": [],
   "source": [
    "h = 'My name is Lauren. '"
   ]
  },
  {
   "cell_type": "code",
   "execution_count": 41,
   "id": "42b3f507",
   "metadata": {},
   "outputs": [],
   "source": [
    "i = 'I am learning Python.'"
   ]
  },
  {
   "cell_type": "code",
   "execution_count": 45,
   "id": "7849b19a",
   "metadata": {},
   "outputs": [
    {
     "data": {
      "text/plain": [
       "'My name is Lauren. I am learning Python.'"
      ]
     },
     "execution_count": 45,
     "metadata": {},
     "output_type": "execute_result"
    }
   ],
   "source": [
    "h + i"
   ]
  },
  {
   "cell_type": "code",
   "execution_count": 46,
   "id": "97cbe795",
   "metadata": {},
   "outputs": [
    {
     "data": {
      "text/plain": [
       "'I am learning Python.I am learning Python.I am learning Python.I am learning Python.I am learning Python.I am learning Python.I am learning Python.I am learning Python.I am learning Python.I am learning Python.I am learning Python.I am learning Python.I am learning Python.I am learning Python.I am learning Python.I am learning Python.I am learning Python.I am learning Python.I am learning Python.I am learning Python.I am learning Python.I am learning Python.I am learning Python.I am learning Python.I am learning Python.I am learning Python.I am learning Python.I am learning Python.I am learning Python.I am learning Python.I am learning Python.I am learning Python.I am learning Python.I am learning Python.I am learning Python.I am learning Python.I am learning Python.I am learning Python.I am learning Python.I am learning Python.I am learning Python.I am learning Python.I am learning Python.I am learning Python.I am learning Python.I am learning Python.I am learning Python.I am learning Python.I am learning Python.I am learning Python.I am learning Python.I am learning Python.I am learning Python.I am learning Python.I am learning Python.I am learning Python.I am learning Python.I am learning Python.I am learning Python.I am learning Python.I am learning Python.I am learning Python.I am learning Python.I am learning Python.I am learning Python.I am learning Python.I am learning Python.I am learning Python.I am learning Python.I am learning Python.I am learning Python.I am learning Python.I am learning Python.I am learning Python.I am learning Python.I am learning Python.I am learning Python.I am learning Python.I am learning Python.I am learning Python.I am learning Python.I am learning Python.I am learning Python.I am learning Python.I am learning Python.I am learning Python.I am learning Python.I am learning Python.I am learning Python.I am learning Python.I am learning Python.I am learning Python.I am learning Python.I am learning Python.I am learning Python.I am learning Python.I am learning Python.I am learning Python.I am learning Python.I am learning Python.'"
      ]
     },
     "execution_count": 46,
     "metadata": {},
     "output_type": "execute_result"
    }
   ],
   "source": [
    "i * 100"
   ]
  },
  {
   "cell_type": "code",
   "execution_count": 3,
   "id": "d4368a4c",
   "metadata": {},
   "outputs": [],
   "source": [
    "x = 2"
   ]
  },
  {
   "cell_type": "code",
   "execution_count": 4,
   "id": "2ceee489",
   "metadata": {
    "scrolled": true
   },
   "outputs": [
    {
     "data": {
      "text/plain": [
       "2"
      ]
     },
     "execution_count": 4,
     "metadata": {},
     "output_type": "execute_result"
    }
   ],
   "source": [
    "x"
   ]
  },
  {
   "cell_type": "code",
   "execution_count": 5,
   "id": "135c4e33",
   "metadata": {},
   "outputs": [
    {
     "name": "stdout",
     "output_type": "stream",
     "text": [
      "2\n"
     ]
    }
   ],
   "source": [
    "print(x)"
   ]
  },
  {
   "cell_type": "code",
   "execution_count": 6,
   "id": "50abe9d1",
   "metadata": {},
   "outputs": [
    {
     "data": {
      "text/plain": [
       "int"
      ]
     },
     "execution_count": 6,
     "metadata": {},
     "output_type": "execute_result"
    }
   ],
   "source": [
    "type(x)"
   ]
  },
  {
   "cell_type": "code",
   "execution_count": 7,
   "id": "f5967b58",
   "metadata": {},
   "outputs": [],
   "source": [
    "y = 5.678"
   ]
  },
  {
   "cell_type": "code",
   "execution_count": 8,
   "id": "b980960f",
   "metadata": {},
   "outputs": [
    {
     "data": {
      "text/plain": [
       "float"
      ]
     },
     "execution_count": 8,
     "metadata": {},
     "output_type": "execute_result"
    }
   ],
   "source": [
    "type(y)"
   ]
  },
  {
   "cell_type": "code",
   "execution_count": 9,
   "id": "c95cb0a3",
   "metadata": {},
   "outputs": [],
   "source": [
    "z = 'Brazil'"
   ]
  },
  {
   "cell_type": "code",
   "execution_count": 10,
   "id": "be6e878e",
   "metadata": {},
   "outputs": [
    {
     "data": {
      "text/plain": [
       "str"
      ]
     },
     "execution_count": 10,
     "metadata": {},
     "output_type": "execute_result"
    }
   ],
   "source": [
    "type(z)"
   ]
  },
  {
   "cell_type": "code",
   "execution_count": 11,
   "id": "f80eff81",
   "metadata": {},
   "outputs": [
    {
     "data": {
      "text/plain": [
       "bool"
      ]
     },
     "execution_count": 11,
     "metadata": {},
     "output_type": "execute_result"
    }
   ],
   "source": [
    "type(True)"
   ]
  },
  {
   "cell_type": "code",
   "execution_count": 12,
   "id": "aa5e3dbb",
   "metadata": {},
   "outputs": [
    {
     "data": {
      "text/plain": [
       "bool"
      ]
     },
     "execution_count": 12,
     "metadata": {},
     "output_type": "execute_result"
    }
   ],
   "source": [
    "type(False)"
   ]
  },
  {
   "cell_type": "code",
   "execution_count": 13,
   "id": "52846932",
   "metadata": {},
   "outputs": [
    {
     "name": "stdout",
     "output_type": "stream",
     "text": [
      "2\n"
     ]
    }
   ],
   "source": [
    "print(x)"
   ]
  },
  {
   "cell_type": "code",
   "execution_count": 14,
   "id": "d3225716",
   "metadata": {},
   "outputs": [
    {
     "data": {
      "text/plain": [
       "6"
      ]
     },
     "execution_count": 14,
     "metadata": {},
     "output_type": "execute_result"
    }
   ],
   "source": [
    "x + 4"
   ]
  },
  {
   "cell_type": "code",
   "execution_count": 15,
   "id": "abc4065e",
   "metadata": {},
   "outputs": [
    {
     "data": {
      "text/plain": [
       "7.678"
      ]
     },
     "execution_count": 15,
     "metadata": {},
     "output_type": "execute_result"
    }
   ],
   "source": [
    "x + y"
   ]
  },
  {
   "cell_type": "code",
   "execution_count": 19,
   "id": "2d90c089",
   "metadata": {},
   "outputs": [],
   "source": [
    "x = x - 4"
   ]
  },
  {
   "cell_type": "code",
   "execution_count": 20,
   "id": "0e711259",
   "metadata": {},
   "outputs": [
    {
     "name": "stdout",
     "output_type": "stream",
     "text": [
      "6\n"
     ]
    }
   ],
   "source": [
    "print(x)"
   ]
  },
  {
   "cell_type": "code",
   "execution_count": 21,
   "id": "2ec960b4",
   "metadata": {},
   "outputs": [],
   "source": [
    "a = 'Hello, '\n",
    "b = 'Marley'"
   ]
  },
  {
   "cell_type": "code",
   "execution_count": 22,
   "id": "434fb9a3",
   "metadata": {},
   "outputs": [
    {
     "data": {
      "text/plain": [
       "'Hello, Marley'"
      ]
     },
     "execution_count": 22,
     "metadata": {},
     "output_type": "execute_result"
    }
   ],
   "source": [
    "a + b"
   ]
  },
  {
   "cell_type": "code",
   "execution_count": 23,
   "id": "ab91cccd",
   "metadata": {},
   "outputs": [],
   "source": [
    "n = 'potato'"
   ]
  },
  {
   "cell_type": "code",
   "execution_count": 24,
   "id": "af00ed8f",
   "metadata": {},
   "outputs": [
    {
     "data": {
      "text/plain": [
       "'potatopotatopotatopotatopotatopotatopotatopotatopotatopotatopotatopotato'"
      ]
     },
     "execution_count": 24,
     "metadata": {},
     "output_type": "execute_result"
    }
   ],
   "source": [
    "n * 12"
   ]
  },
  {
   "cell_type": "code",
   "execution_count": 25,
   "id": "0b2c11de",
   "metadata": {},
   "outputs": [
    {
     "data": {
      "text/plain": [
       "False"
      ]
     },
     "execution_count": 25,
     "metadata": {},
     "output_type": "execute_result"
    }
   ],
   "source": [
    "x == y"
   ]
  },
  {
   "cell_type": "code",
   "execution_count": 26,
   "id": "8bb9fcee",
   "metadata": {},
   "outputs": [
    {
     "data": {
      "text/plain": [
       "bool"
      ]
     },
     "execution_count": 26,
     "metadata": {},
     "output_type": "execute_result"
    }
   ],
   "source": [
    "type(x == y)"
   ]
  },
  {
   "cell_type": "code",
   "execution_count": null,
   "id": "5f96c5e4",
   "metadata": {},
   "outputs": [],
   "source": []
  }
 ],
 "metadata": {
  "kernelspec": {
   "display_name": "Python 3",
   "language": "python",
   "name": "python3"
  },
  "language_info": {
   "codemirror_mode": {
    "name": "ipython",
    "version": 3
   },
   "file_extension": ".py",
   "mimetype": "text/x-python",
   "name": "python",
   "nbconvert_exporter": "python",
   "pygments_lexer": "ipython3",
   "version": "3.8.8"
  }
 },
 "nbformat": 4,
 "nbformat_minor": 5
}
