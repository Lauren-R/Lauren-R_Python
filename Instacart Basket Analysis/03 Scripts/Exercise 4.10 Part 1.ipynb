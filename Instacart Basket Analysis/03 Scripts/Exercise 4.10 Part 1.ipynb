{
 "cells": [
  {
   "cell_type": "markdown",
   "id": "499c8b4b",
   "metadata": {},
   "source": [
    "# Exercise 4.10 Part 1"
   ]
  },
  {
   "cell_type": "markdown",
   "id": "22286647",
   "metadata": {},
   "source": [
    "## Contents"
   ]
  },
  {
   "cell_type": "markdown",
   "id": "b222a5b6",
   "metadata": {},
   "source": [
    "#### 01. Import data and libraries\n",
    "#### 02. Address PII and security\n",
    "#### 03. Regional segmentation and behavioral analysis\n",
    "#### 04. Exclude low-activity customers\n",
    "#### 05. Create customer profiles\n",
    "#### 06. Visualizations of profiles\n",
    "#### 07. Aggregate the max, mean, and min\n",
    "#### 08. Compare customer profiles with regions and departments\n",
    "#### 09. Export final data set"
   ]
  },
  {
   "cell_type": "markdown",
   "id": "149b118c",
   "metadata": {},
   "source": [
    "## 01. Import data and libraries"
   ]
  },
  {
   "cell_type": "code",
   "execution_count": 4,
   "id": "632d2634",
   "metadata": {},
   "outputs": [],
   "source": [
    "# Import libraries\n",
    "\n",
    "import pandas as pd\n",
    "import numpy as np\n",
    "import os\n",
    "import matplotlib.pyplot as plt\n",
    "import seaborn as sns\n",
    "import scipy"
   ]
  },
  {
   "cell_type": "code",
   "execution_count": 5,
   "id": "ee91f442",
   "metadata": {},
   "outputs": [],
   "source": [
    "# Import data\n",
    "\n",
    "ords_prods_cust = pd.read_pickle(r'C:\\Users\\lrutl\\OneDrive\\Desktop\\Python Fundamentals for Data Analysts\\Instacart Basket Analysis\\02 Data\\Prepared Data\\ords_prods_cust.pkl')"
   ]
  },
  {
   "cell_type": "code",
   "execution_count": 6,
   "id": "9986cb35",
   "metadata": {},
   "outputs": [],
   "source": [
    "# Create file path\n",
    "\n",
    "path = r'C:\\Users\\lrutl\\OneDrive\\Desktop\\Python Fundamentals for Data Analysts\\Instacart Basket Analysis'"
   ]
  },
  {
   "cell_type": "code",
   "execution_count": 7,
   "id": "166ad5dd",
   "metadata": {},
   "outputs": [
    {
     "data": {
      "text/html": [
       "<div>\n",
       "<style scoped>\n",
       "    .dataframe tbody tr th:only-of-type {\n",
       "        vertical-align: middle;\n",
       "    }\n",
       "\n",
       "    .dataframe tbody tr th {\n",
       "        vertical-align: top;\n",
       "    }\n",
       "\n",
       "    .dataframe thead th {\n",
       "        text-align: right;\n",
       "    }\n",
       "</style>\n",
       "<table border=\"1\" class=\"dataframe\">\n",
       "  <thead>\n",
       "    <tr style=\"text-align: right;\">\n",
       "      <th></th>\n",
       "      <th>order_id</th>\n",
       "      <th>customer_id</th>\n",
       "      <th>order_number</th>\n",
       "      <th>orders_day_of_week</th>\n",
       "      <th>order_hour_of_day</th>\n",
       "      <th>days_since_prior_order</th>\n",
       "      <th>product_id</th>\n",
       "      <th>add_to_cart_order</th>\n",
       "      <th>reordered</th>\n",
       "      <th>product_name</th>\n",
       "      <th>...</th>\n",
       "      <th>Age</th>\n",
       "      <th>number_of_dependants</th>\n",
       "      <th>fam_status</th>\n",
       "      <th>income</th>\n",
       "      <th>Region</th>\n",
       "      <th>Activity_Flag</th>\n",
       "      <th>parent_profile</th>\n",
       "      <th>department_profile</th>\n",
       "      <th>income_profile</th>\n",
       "      <th>Income Level</th>\n",
       "    </tr>\n",
       "  </thead>\n",
       "  <tbody>\n",
       "    <tr>\n",
       "      <th>3</th>\n",
       "      <td>431534</td>\n",
       "      <td>1</td>\n",
       "      <td>5</td>\n",
       "      <td>4</td>\n",
       "      <td>15</td>\n",
       "      <td>28.0</td>\n",
       "      <td>196</td>\n",
       "      <td>1</td>\n",
       "      <td>1</td>\n",
       "      <td>Soda</td>\n",
       "      <td>...</td>\n",
       "      <td>31</td>\n",
       "      <td>3</td>\n",
       "      <td>married</td>\n",
       "      <td>40423</td>\n",
       "      <td>South</td>\n",
       "      <td>High_Activity</td>\n",
       "      <td>Young Parent</td>\n",
       "      <td>non-alcoholic beverages</td>\n",
       "      <td>Middle Income</td>\n",
       "      <td>Middle Income</td>\n",
       "    </tr>\n",
       "    <tr>\n",
       "      <th>4</th>\n",
       "      <td>3367565</td>\n",
       "      <td>1</td>\n",
       "      <td>6</td>\n",
       "      <td>2</td>\n",
       "      <td>7</td>\n",
       "      <td>19.0</td>\n",
       "      <td>196</td>\n",
       "      <td>1</td>\n",
       "      <td>1</td>\n",
       "      <td>Soda</td>\n",
       "      <td>...</td>\n",
       "      <td>31</td>\n",
       "      <td>3</td>\n",
       "      <td>married</td>\n",
       "      <td>40423</td>\n",
       "      <td>South</td>\n",
       "      <td>High_Activity</td>\n",
       "      <td>Young Parent</td>\n",
       "      <td>non-alcoholic beverages</td>\n",
       "      <td>Middle Income</td>\n",
       "      <td>Middle Income</td>\n",
       "    </tr>\n",
       "    <tr>\n",
       "      <th>5</th>\n",
       "      <td>550135</td>\n",
       "      <td>1</td>\n",
       "      <td>7</td>\n",
       "      <td>1</td>\n",
       "      <td>9</td>\n",
       "      <td>20.0</td>\n",
       "      <td>196</td>\n",
       "      <td>1</td>\n",
       "      <td>1</td>\n",
       "      <td>Soda</td>\n",
       "      <td>...</td>\n",
       "      <td>31</td>\n",
       "      <td>3</td>\n",
       "      <td>married</td>\n",
       "      <td>40423</td>\n",
       "      <td>South</td>\n",
       "      <td>High_Activity</td>\n",
       "      <td>Young Parent</td>\n",
       "      <td>non-alcoholic beverages</td>\n",
       "      <td>Middle Income</td>\n",
       "      <td>Middle Income</td>\n",
       "    </tr>\n",
       "    <tr>\n",
       "      <th>6</th>\n",
       "      <td>3108588</td>\n",
       "      <td>1</td>\n",
       "      <td>8</td>\n",
       "      <td>1</td>\n",
       "      <td>14</td>\n",
       "      <td>14.0</td>\n",
       "      <td>196</td>\n",
       "      <td>2</td>\n",
       "      <td>1</td>\n",
       "      <td>Soda</td>\n",
       "      <td>...</td>\n",
       "      <td>31</td>\n",
       "      <td>3</td>\n",
       "      <td>married</td>\n",
       "      <td>40423</td>\n",
       "      <td>South</td>\n",
       "      <td>High_Activity</td>\n",
       "      <td>Young Parent</td>\n",
       "      <td>non-alcoholic beverages</td>\n",
       "      <td>Middle Income</td>\n",
       "      <td>Middle Income</td>\n",
       "    </tr>\n",
       "    <tr>\n",
       "      <th>7</th>\n",
       "      <td>2295261</td>\n",
       "      <td>1</td>\n",
       "      <td>9</td>\n",
       "      <td>1</td>\n",
       "      <td>16</td>\n",
       "      <td>0.0</td>\n",
       "      <td>196</td>\n",
       "      <td>4</td>\n",
       "      <td>1</td>\n",
       "      <td>Soda</td>\n",
       "      <td>...</td>\n",
       "      <td>31</td>\n",
       "      <td>3</td>\n",
       "      <td>married</td>\n",
       "      <td>40423</td>\n",
       "      <td>South</td>\n",
       "      <td>High_Activity</td>\n",
       "      <td>Young Parent</td>\n",
       "      <td>non-alcoholic beverages</td>\n",
       "      <td>Middle Income</td>\n",
       "      <td>Middle Income</td>\n",
       "    </tr>\n",
       "  </tbody>\n",
       "</table>\n",
       "<p>5 rows × 35 columns</p>\n",
       "</div>"
      ],
      "text/plain": [
       "   order_id customer_id  order_number  orders_day_of_week  order_hour_of_day  \\\n",
       "3    431534           1             5                   4                 15   \n",
       "4   3367565           1             6                   2                  7   \n",
       "5    550135           1             7                   1                  9   \n",
       "6   3108588           1             8                   1                 14   \n",
       "7   2295261           1             9                   1                 16   \n",
       "\n",
       "   days_since_prior_order  product_id  add_to_cart_order  reordered  \\\n",
       "3                    28.0         196                  1          1   \n",
       "4                    19.0         196                  1          1   \n",
       "5                    20.0         196                  1          1   \n",
       "6                    14.0         196                  2          1   \n",
       "7                     0.0         196                  4          1   \n",
       "\n",
       "  product_name  ...  Age  number_of_dependants  fam_status income Region  \\\n",
       "3         Soda  ...   31                     3     married  40423  South   \n",
       "4         Soda  ...   31                     3     married  40423  South   \n",
       "5         Soda  ...   31                     3     married  40423  South   \n",
       "6         Soda  ...   31                     3     married  40423  South   \n",
       "7         Soda  ...   31                     3     married  40423  South   \n",
       "\n",
       "   Activity_Flag parent_profile       department_profile income_profile  \\\n",
       "3  High_Activity   Young Parent  non-alcoholic beverages  Middle Income   \n",
       "4  High_Activity   Young Parent  non-alcoholic beverages  Middle Income   \n",
       "5  High_Activity   Young Parent  non-alcoholic beverages  Middle Income   \n",
       "6  High_Activity   Young Parent  non-alcoholic beverages  Middle Income   \n",
       "7  High_Activity   Young Parent  non-alcoholic beverages  Middle Income   \n",
       "\n",
       "    Income Level  \n",
       "3  Middle Income  \n",
       "4  Middle Income  \n",
       "5  Middle Income  \n",
       "6  Middle Income  \n",
       "7  Middle Income  \n",
       "\n",
       "[5 rows x 35 columns]"
      ]
     },
     "execution_count": 7,
     "metadata": {},
     "output_type": "execute_result"
    }
   ],
   "source": [
    "# Check data import head\n",
    "\n",
    "ords_prods_cust.head()"
   ]
  },
  {
   "cell_type": "code",
   "execution_count": 8,
   "id": "067217e6",
   "metadata": {},
   "outputs": [
    {
     "name": "stdout",
     "output_type": "stream",
     "text": [
      "<class 'pandas.core.frame.DataFrame'>\n",
      "Int64Index: 24414877 entries, 3 to 30328759\n",
      "Data columns (total 35 columns):\n",
      " #   Column                          Dtype  \n",
      "---  ------                          -----  \n",
      " 0   order_id                        int64  \n",
      " 1   customer_id                     object \n",
      " 2   order_number                    int64  \n",
      " 3   orders_day_of_week              int64  \n",
      " 4   order_hour_of_day               int64  \n",
      " 5   days_since_prior_order          float64\n",
      " 6   product_id                      int64  \n",
      " 7   add_to_cart_order               int64  \n",
      " 8   reordered                       int64  \n",
      " 9   product_name                    object \n",
      " 10  aisle_id                        int64  \n",
      " 11  department_id                   int64  \n",
      " 12  prices                          float64\n",
      " 13  price_range_loc                 object \n",
      " 14  busiest_day                     object \n",
      " 15  Busiest days                    object \n",
      " 16  busiest_period_of_day           object \n",
      " 17  max_order                       int64  \n",
      " 18  loyalty_flag                    object \n",
      " 19  average_price                   float64\n",
      " 20  average_spending                object \n",
      " 21  average_days_since_prior_order  float64\n",
      " 22  customer_frequency              object \n",
      " 23  Gender                          object \n",
      " 24  State                           object \n",
      " 25  Age                             int64  \n",
      " 26  number_of_dependants            int64  \n",
      " 27  fam_status                      object \n",
      " 28  income                          int32  \n",
      " 29  Region                          object \n",
      " 30  Activity_Flag                   object \n",
      " 31  parent_profile                  object \n",
      " 32  department_profile              object \n",
      " 33  income_profile                  object \n",
      " 34  Income Level                    object \n",
      "dtypes: float64(4), int32(1), int64(12), object(18)\n",
      "memory usage: 6.5+ GB\n"
     ]
    }
   ],
   "source": [
    "# Check data import columns\n",
    "\n",
    "ords_prods_cust.info()"
   ]
  },
  {
   "cell_type": "code",
   "execution_count": 9,
   "id": "e099f07c",
   "metadata": {},
   "outputs": [
    {
     "data": {
      "text/plain": [
       "(24414877, 35)"
      ]
     },
     "execution_count": 9,
     "metadata": {},
     "output_type": "execute_result"
    }
   ],
   "source": [
    "# Check data import shape\n",
    "\n",
    "ords_prods_cust.shape"
   ]
  },
  {
   "cell_type": "markdown",
   "id": "eb237f02",
   "metadata": {},
   "source": [
    "## 02. Address PII and security"
   ]
  },
  {
   "cell_type": "markdown",
   "id": "b92a4b76",
   "metadata": {},
   "source": [
    "##### I removed the two columns that contained PII. They were First Name and Last Name. If individual customer information is needed, I will use the anonymous customer_id column."
   ]
  },
  {
   "cell_type": "markdown",
   "id": "62f351c0",
   "metadata": {},
   "source": [
    "## 03. Regional segmentation and behavioral analysis"
   ]
  },
  {
   "cell_type": "code",
   "execution_count": 10,
   "id": "fa7e6c7e",
   "metadata": {},
   "outputs": [],
   "source": [
    "# Define Region row\n",
    "\n",
    "def Region(row):\n",
    "\n",
    "  if (row['State'] == 'Maine') or (row['State'] == 'New Hampshire') or (row['State'] == 'Vermont') or (row['State'] == 'Massachusetts') or (row['State'] == 'Rhode Island') or (row['State'] == 'Connecticut') or (row['State'] == 'New York') or (row['State'] == 'Pennsylvania') or (row['State'] == 'New Jersey'):\n",
    "    return 'Northeast'\n",
    "  elif (row['State'] == 'Wisconsin') or (row['State'] == 'Michigan') or (row['State'] == 'Illinois') or (row['State'] == 'Indiana') or (row['State'] == 'Ohio') or (row['State'] == 'North Dakota') or (row['State'] == 'South Dakota') or (row['State'] == 'Nebraska') or (row['State'] == 'Kansas') or (row['State'] == 'Minnesota') or (row['State'] == 'Iowa') or (row['State'] == 'Missouri'):\n",
    "    return 'Midwest'\n",
    "  elif (row['State'] == 'Delaware') or (row['State'] == 'Maryland') or (row['State'] == 'District of Columbia') or (row['State'] == 'Virginia') or (row['State'] == 'West Virginia') or (row['State'] == 'North Carolina') or (row['State'] == 'South Carolina') or (row['State'] == 'Georgia') or (row['State'] == 'Florida') or (row['State'] == 'Kentucky') or (row['State'] == 'Tennessee') or (row['State'] == 'Mississippi') or (row['State'] == 'Alabama') or (row['State'] == 'Oklahoma') or (row['State'] == 'Texas') or (row['State'] == 'Arkansas') or (row['State'] == 'Louisiana'):\n",
    "    return 'South'\n",
    "  elif (row['State'] == 'Idaho') or (row['State'] == 'Montana') or (row['State'] == 'Wyoming') or (row['State'] == 'Nevada') or (row['State'] == 'Utah') or (row['State'] == 'Colorado') or (row['State'] == 'Arizona') or (row['State'] == 'New Mexico') or (row['State'] == 'Alaska') or (row['State'] == 'Washington') or (row['State'] == 'Oregon') or (row['State'] == 'California') or (row['State'] == 'Hawaii'):\n",
    "    return 'West'\n",
    "  else: return 'NaN'"
   ]
  },
  {
   "cell_type": "code",
   "execution_count": 11,
   "id": "2f3dd602",
   "metadata": {},
   "outputs": [],
   "source": [
    "# Apply Region to ords_prods_cust df\n",
    "\n",
    "ords_prods_cust['Region'] = ords_prods_cust.apply(Region, axis=1)"
   ]
  },
  {
   "cell_type": "code",
   "execution_count": 12,
   "id": "8cd37d4e",
   "metadata": {},
   "outputs": [
    {
     "data": {
      "text/html": [
       "<div>\n",
       "<style scoped>\n",
       "    .dataframe tbody tr th:only-of-type {\n",
       "        vertical-align: middle;\n",
       "    }\n",
       "\n",
       "    .dataframe tbody tr th {\n",
       "        vertical-align: top;\n",
       "    }\n",
       "\n",
       "    .dataframe thead th {\n",
       "        text-align: right;\n",
       "    }\n",
       "</style>\n",
       "<table border=\"1\" class=\"dataframe\">\n",
       "  <thead>\n",
       "    <tr style=\"text-align: right;\">\n",
       "      <th></th>\n",
       "      <th>order_id</th>\n",
       "      <th>customer_id</th>\n",
       "      <th>order_number</th>\n",
       "      <th>orders_day_of_week</th>\n",
       "      <th>order_hour_of_day</th>\n",
       "      <th>days_since_prior_order</th>\n",
       "      <th>product_id</th>\n",
       "      <th>add_to_cart_order</th>\n",
       "      <th>reordered</th>\n",
       "      <th>product_name</th>\n",
       "      <th>...</th>\n",
       "      <th>Age</th>\n",
       "      <th>number_of_dependants</th>\n",
       "      <th>fam_status</th>\n",
       "      <th>income</th>\n",
       "      <th>Region</th>\n",
       "      <th>Activity_Flag</th>\n",
       "      <th>parent_profile</th>\n",
       "      <th>department_profile</th>\n",
       "      <th>income_profile</th>\n",
       "      <th>Income Level</th>\n",
       "    </tr>\n",
       "  </thead>\n",
       "  <tbody>\n",
       "    <tr>\n",
       "      <th>3</th>\n",
       "      <td>431534</td>\n",
       "      <td>1</td>\n",
       "      <td>5</td>\n",
       "      <td>4</td>\n",
       "      <td>15</td>\n",
       "      <td>28.0</td>\n",
       "      <td>196</td>\n",
       "      <td>1</td>\n",
       "      <td>1</td>\n",
       "      <td>Soda</td>\n",
       "      <td>...</td>\n",
       "      <td>31</td>\n",
       "      <td>3</td>\n",
       "      <td>married</td>\n",
       "      <td>40423</td>\n",
       "      <td>South</td>\n",
       "      <td>High_Activity</td>\n",
       "      <td>Young Parent</td>\n",
       "      <td>non-alcoholic beverages</td>\n",
       "      <td>Middle Income</td>\n",
       "      <td>Middle Income</td>\n",
       "    </tr>\n",
       "    <tr>\n",
       "      <th>4</th>\n",
       "      <td>3367565</td>\n",
       "      <td>1</td>\n",
       "      <td>6</td>\n",
       "      <td>2</td>\n",
       "      <td>7</td>\n",
       "      <td>19.0</td>\n",
       "      <td>196</td>\n",
       "      <td>1</td>\n",
       "      <td>1</td>\n",
       "      <td>Soda</td>\n",
       "      <td>...</td>\n",
       "      <td>31</td>\n",
       "      <td>3</td>\n",
       "      <td>married</td>\n",
       "      <td>40423</td>\n",
       "      <td>South</td>\n",
       "      <td>High_Activity</td>\n",
       "      <td>Young Parent</td>\n",
       "      <td>non-alcoholic beverages</td>\n",
       "      <td>Middle Income</td>\n",
       "      <td>Middle Income</td>\n",
       "    </tr>\n",
       "    <tr>\n",
       "      <th>5</th>\n",
       "      <td>550135</td>\n",
       "      <td>1</td>\n",
       "      <td>7</td>\n",
       "      <td>1</td>\n",
       "      <td>9</td>\n",
       "      <td>20.0</td>\n",
       "      <td>196</td>\n",
       "      <td>1</td>\n",
       "      <td>1</td>\n",
       "      <td>Soda</td>\n",
       "      <td>...</td>\n",
       "      <td>31</td>\n",
       "      <td>3</td>\n",
       "      <td>married</td>\n",
       "      <td>40423</td>\n",
       "      <td>South</td>\n",
       "      <td>High_Activity</td>\n",
       "      <td>Young Parent</td>\n",
       "      <td>non-alcoholic beverages</td>\n",
       "      <td>Middle Income</td>\n",
       "      <td>Middle Income</td>\n",
       "    </tr>\n",
       "    <tr>\n",
       "      <th>6</th>\n",
       "      <td>3108588</td>\n",
       "      <td>1</td>\n",
       "      <td>8</td>\n",
       "      <td>1</td>\n",
       "      <td>14</td>\n",
       "      <td>14.0</td>\n",
       "      <td>196</td>\n",
       "      <td>2</td>\n",
       "      <td>1</td>\n",
       "      <td>Soda</td>\n",
       "      <td>...</td>\n",
       "      <td>31</td>\n",
       "      <td>3</td>\n",
       "      <td>married</td>\n",
       "      <td>40423</td>\n",
       "      <td>South</td>\n",
       "      <td>High_Activity</td>\n",
       "      <td>Young Parent</td>\n",
       "      <td>non-alcoholic beverages</td>\n",
       "      <td>Middle Income</td>\n",
       "      <td>Middle Income</td>\n",
       "    </tr>\n",
       "    <tr>\n",
       "      <th>7</th>\n",
       "      <td>2295261</td>\n",
       "      <td>1</td>\n",
       "      <td>9</td>\n",
       "      <td>1</td>\n",
       "      <td>16</td>\n",
       "      <td>0.0</td>\n",
       "      <td>196</td>\n",
       "      <td>4</td>\n",
       "      <td>1</td>\n",
       "      <td>Soda</td>\n",
       "      <td>...</td>\n",
       "      <td>31</td>\n",
       "      <td>3</td>\n",
       "      <td>married</td>\n",
       "      <td>40423</td>\n",
       "      <td>South</td>\n",
       "      <td>High_Activity</td>\n",
       "      <td>Young Parent</td>\n",
       "      <td>non-alcoholic beverages</td>\n",
       "      <td>Middle Income</td>\n",
       "      <td>Middle Income</td>\n",
       "    </tr>\n",
       "  </tbody>\n",
       "</table>\n",
       "<p>5 rows × 35 columns</p>\n",
       "</div>"
      ],
      "text/plain": [
       "   order_id customer_id  order_number  orders_day_of_week  order_hour_of_day  \\\n",
       "3    431534           1             5                   4                 15   \n",
       "4   3367565           1             6                   2                  7   \n",
       "5    550135           1             7                   1                  9   \n",
       "6   3108588           1             8                   1                 14   \n",
       "7   2295261           1             9                   1                 16   \n",
       "\n",
       "   days_since_prior_order  product_id  add_to_cart_order  reordered  \\\n",
       "3                    28.0         196                  1          1   \n",
       "4                    19.0         196                  1          1   \n",
       "5                    20.0         196                  1          1   \n",
       "6                    14.0         196                  2          1   \n",
       "7                     0.0         196                  4          1   \n",
       "\n",
       "  product_name  ...  Age  number_of_dependants  fam_status income Region  \\\n",
       "3         Soda  ...   31                     3     married  40423  South   \n",
       "4         Soda  ...   31                     3     married  40423  South   \n",
       "5         Soda  ...   31                     3     married  40423  South   \n",
       "6         Soda  ...   31                     3     married  40423  South   \n",
       "7         Soda  ...   31                     3     married  40423  South   \n",
       "\n",
       "   Activity_Flag parent_profile       department_profile income_profile  \\\n",
       "3  High_Activity   Young Parent  non-alcoholic beverages  Middle Income   \n",
       "4  High_Activity   Young Parent  non-alcoholic beverages  Middle Income   \n",
       "5  High_Activity   Young Parent  non-alcoholic beverages  Middle Income   \n",
       "6  High_Activity   Young Parent  non-alcoholic beverages  Middle Income   \n",
       "7  High_Activity   Young Parent  non-alcoholic beverages  Middle Income   \n",
       "\n",
       "    Income Level  \n",
       "3  Middle Income  \n",
       "4  Middle Income  \n",
       "5  Middle Income  \n",
       "6  Middle Income  \n",
       "7  Middle Income  \n",
       "\n",
       "[5 rows x 35 columns]"
      ]
     },
     "execution_count": 12,
     "metadata": {},
     "output_type": "execute_result"
    }
   ],
   "source": [
    "# Review new df\n",
    "\n",
    "ords_prods_cust.head()"
   ]
  },
  {
   "cell_type": "code",
   "execution_count": 13,
   "id": "f216a592",
   "metadata": {},
   "outputs": [
    {
     "data": {
      "text/plain": [
       "South        8129086\n",
       "West         6258764\n",
       "Midwest      5711756\n",
       "Northeast    4315271\n",
       "Name: Region, dtype: int64"
      ]
     },
     "execution_count": 13,
     "metadata": {},
     "output_type": "execute_result"
    }
   ],
   "source": [
    "# Check value counts of Region column\n",
    "\n",
    "ords_prods_cust['Region'].value_counts(dropna = False)"
   ]
  },
  {
   "cell_type": "code",
   "execution_count": 14,
   "id": "80eaa87a",
   "metadata": {},
   "outputs": [],
   "source": [
    "# Find difference between spending by region - crosstab region with average_spending\n",
    "\n",
    "crosstab = pd.crosstab(ords_prods_cust['Region'], ords_prods_cust['average_spending'], dropna = False)"
   ]
  },
  {
   "cell_type": "code",
   "execution_count": 15,
   "id": "916893eb",
   "metadata": {},
   "outputs": [
    {
     "data": {
      "text/html": [
       "<div>\n",
       "<style scoped>\n",
       "    .dataframe tbody tr th:only-of-type {\n",
       "        vertical-align: middle;\n",
       "    }\n",
       "\n",
       "    .dataframe tbody tr th {\n",
       "        vertical-align: top;\n",
       "    }\n",
       "\n",
       "    .dataframe thead th {\n",
       "        text-align: right;\n",
       "    }\n",
       "</style>\n",
       "<table border=\"1\" class=\"dataframe\">\n",
       "  <thead>\n",
       "    <tr style=\"text-align: right;\">\n",
       "      <th>average_spending</th>\n",
       "      <th>High spender</th>\n",
       "      <th>Low spender</th>\n",
       "    </tr>\n",
       "    <tr>\n",
       "      <th>Region</th>\n",
       "      <th></th>\n",
       "      <th></th>\n",
       "    </tr>\n",
       "  </thead>\n",
       "  <tbody>\n",
       "    <tr>\n",
       "      <th>Midwest</th>\n",
       "      <td>119094</td>\n",
       "      <td>5592662</td>\n",
       "    </tr>\n",
       "    <tr>\n",
       "      <th>Northeast</th>\n",
       "      <td>82465</td>\n",
       "      <td>4232806</td>\n",
       "    </tr>\n",
       "    <tr>\n",
       "      <th>South</th>\n",
       "      <td>157500</td>\n",
       "      <td>7971586</td>\n",
       "    </tr>\n",
       "    <tr>\n",
       "      <th>West</th>\n",
       "      <td>119911</td>\n",
       "      <td>6138853</td>\n",
       "    </tr>\n",
       "  </tbody>\n",
       "</table>\n",
       "</div>"
      ],
      "text/plain": [
       "average_spending  High spender  Low spender\n",
       "Region                                     \n",
       "Midwest                 119094      5592662\n",
       "Northeast                82465      4232806\n",
       "South                   157500      7971586\n",
       "West                    119911      6138853"
      ]
     },
     "execution_count": 15,
     "metadata": {},
     "output_type": "execute_result"
    }
   ],
   "source": [
    "crosstab"
   ]
  },
  {
   "cell_type": "code",
   "execution_count": 16,
   "id": "fa315459",
   "metadata": {},
   "outputs": [],
   "source": [
    "# Copy crosstab to clipboard to paste in Excel\n",
    "\n",
    "crosstab.to_clipboard()"
   ]
  },
  {
   "cell_type": "markdown",
   "id": "f7803172",
   "metadata": {},
   "source": [
    "##### Analysis of regional spending: The South region has the highest number of customers as well as the most high and low spenders. The Northeast region has the least amount of customers as well as the lowest number of high and low spenders.  The Midwest has the highest % of high spenders at 2.1% of Midwest customers."
   ]
  },
  {
   "cell_type": "markdown",
   "id": "60ea4b64",
   "metadata": {},
   "source": [
    "## 04. Exclude low-activity customers"
   ]
  },
  {
   "cell_type": "code",
   "execution_count": 17,
   "id": "cf8a3bae",
   "metadata": {},
   "outputs": [],
   "source": [
    "# Create if-statement to find low-activity customers (less than 5 orders)\n",
    "\n",
    "ords_prods_cust.loc[ords_prods_cust['order_number'] <5,'Activity_Flag'] = 'Low_Activity'"
   ]
  },
  {
   "cell_type": "code",
   "execution_count": 18,
   "id": "4bba761a",
   "metadata": {},
   "outputs": [],
   "source": [
    "# Create if-statement to find high-activity customers (5 or more orders)\n",
    "\n",
    "ords_prods_cust.loc[ords_prods_cust['order_number'] >= 5,'Activity_Flag'] = 'High_Activity'"
   ]
  },
  {
   "cell_type": "code",
   "execution_count": 19,
   "id": "e7752916",
   "metadata": {},
   "outputs": [
    {
     "data": {
      "text/plain": [
       "High_Activity    24414877\n",
       "Name: Activity_Flag, dtype: int64"
      ]
     },
     "execution_count": 19,
     "metadata": {},
     "output_type": "execute_result"
    }
   ],
   "source": [
    "# Check frequency of new Activity_Flag column\n",
    "\n",
    "ords_prods_cust['Activity_Flag'].value_counts(dropna=False)"
   ]
  },
  {
   "cell_type": "code",
   "execution_count": 20,
   "id": "d2340fcc",
   "metadata": {},
   "outputs": [],
   "source": [
    "# Create sample df of only Low_Activty customers\n",
    "\n",
    "df_low_activity = ords_prods_cust[ords_prods_cust.Activity_Flag == 'Low_Activity']"
   ]
  },
  {
   "cell_type": "code",
   "execution_count": 21,
   "id": "7990f04a",
   "metadata": {},
   "outputs": [
    {
     "data": {
      "text/plain": [
       "(0, 35)"
      ]
     },
     "execution_count": 21,
     "metadata": {},
     "output_type": "execute_result"
    }
   ],
   "source": [
    "# Check shape of df_low_activity\n",
    "\n",
    "df_low_activity.shape"
   ]
  },
  {
   "cell_type": "code",
   "execution_count": 22,
   "id": "94b0bcc7",
   "metadata": {},
   "outputs": [],
   "source": [
    "# Export df_low_activity df\n",
    "\n",
    "df_low_activity.to_pickle(os.path.join(r'C:\\Users\\lrutl\\OneDrive\\Desktop\\Python Fundamentals for Data Analysts\\Instacart Basket Analysis\\02 Data\\Prepared Data\\df_low_activity.pkl'))"
   ]
  },
  {
   "cell_type": "code",
   "execution_count": 23,
   "id": "323cb114",
   "metadata": {},
   "outputs": [],
   "source": [
    "# Remove Low_Activity customers from ords_prods_cust df\n",
    "\n",
    "ords_prods_cust = ords_prods_cust[ords_prods_cust.Activity_Flag == 'High_Activity']"
   ]
  },
  {
   "cell_type": "code",
   "execution_count": 24,
   "id": "583fd171",
   "metadata": {},
   "outputs": [
    {
     "data": {
      "text/plain": [
       "(24414877, 35)"
      ]
     },
     "execution_count": 24,
     "metadata": {},
     "output_type": "execute_result"
    }
   ],
   "source": [
    "# Check shape of new ords_prods_cust df\n",
    "\n",
    "ords_prods_cust.shape"
   ]
  },
  {
   "cell_type": "markdown",
   "id": "ac73a69d",
   "metadata": {},
   "source": [
    "## 05. Create customer profiles"
   ]
  },
  {
   "cell_type": "code",
   "execution_count": 25,
   "id": "b44d7496",
   "metadata": {},
   "outputs": [],
   "source": [
    "# Create parent_profile column\n",
    "\n",
    "ords_prods_cust['parent_profile']=\"\""
   ]
  },
  {
   "cell_type": "code",
   "execution_count": 26,
   "id": "c9bcf282",
   "metadata": {},
   "outputs": [],
   "source": [
    "ords_prods_cust.loc[((ords_prods_cust['Age'] <= 40) & (ords_prods_cust['number_of_dependants'] >= 1)), 'parent_profile'] = 'Young Parent'"
   ]
  },
  {
   "cell_type": "code",
   "execution_count": 27,
   "id": "07529565",
   "metadata": {},
   "outputs": [],
   "source": [
    "ords_prods_cust.loc[((ords_prods_cust['Age'] > 40) & (ords_prods_cust['number_of_dependants'] >= 1)), 'parent_profile'] = 'Senior Parent'"
   ]
  },
  {
   "cell_type": "code",
   "execution_count": 28,
   "id": "821d1ec3",
   "metadata": {},
   "outputs": [],
   "source": [
    "ords_prods_cust.loc[((ords_prods_cust['Age'] > 40) & (ords_prods_cust['number_of_dependants'] < 1 )), 'parent_profile'] = 'Senior, No Dependants'"
   ]
  },
  {
   "cell_type": "code",
   "execution_count": 29,
   "id": "9056b763",
   "metadata": {},
   "outputs": [],
   "source": [
    "ords_prods_cust.loc[((ords_prods_cust['Age'] <= 40) & (ords_prods_cust['number_of_dependants'] < 1 )), 'parent_profile'] = 'Young, No Dependants'"
   ]
  },
  {
   "cell_type": "code",
   "execution_count": 30,
   "id": "26d35e80",
   "metadata": {},
   "outputs": [
    {
     "data": {
      "text/plain": [
       "Senior Parent            11696127\n",
       "Young Parent              6613748\n",
       "Senior, No Dependants     3919058\n",
       "Young, No Dependants      2185944\n",
       "Name: parent_profile, dtype: int64"
      ]
     },
     "execution_count": 30,
     "metadata": {},
     "output_type": "execute_result"
    }
   ],
   "source": [
    "# Check frequencies of parent_profile column\n",
    "\n",
    "ords_prods_cust['parent_profile'].value_counts(dropna=False)"
   ]
  },
  {
   "cell_type": "code",
   "execution_count": 31,
   "id": "634abc4b",
   "metadata": {},
   "outputs": [],
   "source": [
    "# Create new income_profile column\n",
    "\n",
    "ords_prods_cust['income_profile']=\"\""
   ]
  },
  {
   "cell_type": "code",
   "execution_count": 32,
   "id": "2e8cabd9",
   "metadata": {},
   "outputs": [],
   "source": [
    "ords_prods_cust.loc[(ords_prods_cust['income'] < 40000), 'income_profile'] = 'Low Income'"
   ]
  },
  {
   "cell_type": "code",
   "execution_count": 33,
   "id": "e98409aa",
   "metadata": {},
   "outputs": [],
   "source": [
    "ords_prods_cust.loc[(ords_prods_cust['income'] >= 40000) & (ords_prods_cust['income'] <= 100000), 'income_profile'] = 'Middle Income'"
   ]
  },
  {
   "cell_type": "code",
   "execution_count": 34,
   "id": "44329ffd",
   "metadata": {},
   "outputs": [],
   "source": [
    "ords_prods_cust.loc[(ords_prods_cust['income'] > 100000), 'income_profile'] = 'High Income'"
   ]
  },
  {
   "cell_type": "code",
   "execution_count": 35,
   "id": "f9dacb8e",
   "metadata": {},
   "outputs": [
    {
     "data": {
      "text/plain": [
       "Middle Income    11949316\n",
       "High Income      11225709\n",
       "Low Income        1239852\n",
       "Name: income_profile, dtype: int64"
      ]
     },
     "execution_count": 35,
     "metadata": {},
     "output_type": "execute_result"
    }
   ],
   "source": [
    "# Check frequencies of income_profile column\n",
    "\n",
    "ords_prods_cust['income_profile'].value_counts(dropna=False)"
   ]
  },
  {
   "cell_type": "code",
   "execution_count": 36,
   "id": "94de31af",
   "metadata": {},
   "outputs": [],
   "source": [
    "# Define department_profile row\n",
    "\n",
    "def department_profile(row):\n",
    "\n",
    "  if (row['department_id'] == 5):\n",
    "    return 'alcohol order'\n",
    "  elif (row['department_id'] == 8):\n",
    "    return 'pet order'\n",
    "  elif (row['department_id'] == 18):\n",
    "    return 'baby order'\n",
    "  elif (row['department_id'] == 19):\n",
    "    return 'snack order'\n",
    "  elif (row['department_id'] == 7):\n",
    "    return 'non-alcoholic beverages'\n",
    "  else: return 'other'"
   ]
  },
  {
   "cell_type": "code",
   "execution_count": 37,
   "id": "548e8367",
   "metadata": {},
   "outputs": [],
   "source": [
    "# Apply department_profile to ords_prods_cust df\n",
    "\n",
    "ords_prods_cust['department_profile'] = ords_prods_cust.apply(department_profile, axis=1)"
   ]
  },
  {
   "cell_type": "code",
   "execution_count": 38,
   "id": "38d4b452",
   "metadata": {},
   "outputs": [
    {
     "data": {
      "text/plain": [
       "other                      19675279\n",
       "snack order                 2187121\n",
       "non-alcoholic beverages     2036447\n",
       "baby order                   335947\n",
       "alcohol order                107972\n",
       "pet order                     72111\n",
       "Name: department_profile, dtype: int64"
      ]
     },
     "execution_count": 38,
     "metadata": {},
     "output_type": "execute_result"
    }
   ],
   "source": [
    "# Check value counts of department_profile column\n",
    "\n",
    "ords_prods_cust['department_profile'].value_counts(dropna = False)"
   ]
  },
  {
   "cell_type": "markdown",
   "id": "de42443e",
   "metadata": {},
   "source": [
    "## 06. Visualizations of profiles"
   ]
  },
  {
   "cell_type": "code",
   "execution_count": 39,
   "id": "c4dd057b",
   "metadata": {},
   "outputs": [],
   "source": [
    "# Count of customer_id in each department profile\n",
    "\n",
    "df_department_profile = ords_prods_cust.groupby('department_profile').agg({'customer_id':['nunique']})"
   ]
  },
  {
   "cell_type": "code",
   "execution_count": 40,
   "id": "bd4289d2",
   "metadata": {},
   "outputs": [
    {
     "data": {
      "text/html": [
       "<div>\n",
       "<style scoped>\n",
       "    .dataframe tbody tr th:only-of-type {\n",
       "        vertical-align: middle;\n",
       "    }\n",
       "\n",
       "    .dataframe tbody tr th {\n",
       "        vertical-align: top;\n",
       "    }\n",
       "\n",
       "    .dataframe thead tr th {\n",
       "        text-align: left;\n",
       "    }\n",
       "\n",
       "    .dataframe thead tr:last-of-type th {\n",
       "        text-align: right;\n",
       "    }\n",
       "</style>\n",
       "<table border=\"1\" class=\"dataframe\">\n",
       "  <thead>\n",
       "    <tr>\n",
       "      <th></th>\n",
       "      <th>customer_id</th>\n",
       "    </tr>\n",
       "    <tr>\n",
       "      <th></th>\n",
       "      <th>nunique</th>\n",
       "    </tr>\n",
       "    <tr>\n",
       "      <th>department_profile</th>\n",
       "      <th></th>\n",
       "    </tr>\n",
       "  </thead>\n",
       "  <tbody>\n",
       "    <tr>\n",
       "      <th>alcohol order</th>\n",
       "      <td>9988</td>\n",
       "    </tr>\n",
       "    <tr>\n",
       "      <th>baby order</th>\n",
       "      <td>25771</td>\n",
       "    </tr>\n",
       "    <tr>\n",
       "      <th>non-alcoholic beverages</th>\n",
       "      <td>129324</td>\n",
       "    </tr>\n",
       "    <tr>\n",
       "      <th>other</th>\n",
       "      <td>161154</td>\n",
       "    </tr>\n",
       "    <tr>\n",
       "      <th>pet order</th>\n",
       "      <td>10845</td>\n",
       "    </tr>\n",
       "  </tbody>\n",
       "</table>\n",
       "</div>"
      ],
      "text/plain": [
       "                        customer_id\n",
       "                            nunique\n",
       "department_profile                 \n",
       "alcohol order                  9988\n",
       "baby order                    25771\n",
       "non-alcoholic beverages      129324\n",
       "other                        161154\n",
       "pet order                     10845"
      ]
     },
     "execution_count": 40,
     "metadata": {},
     "output_type": "execute_result"
    }
   ],
   "source": [
    "# Check columns of new df_department_profile\n",
    "\n",
    "df_department_profile.head()"
   ]
  },
  {
   "cell_type": "code",
   "execution_count": 41,
   "id": "7573850f",
   "metadata": {},
   "outputs": [
    {
     "data": {
      "text/plain": [
       "<matplotlib.legend.Legend at 0x1b95ede5fd0>"
      ]
     },
     "execution_count": 41,
     "metadata": {},
     "output_type": "execute_result"
    },
    {
     "data": {
      "image/png": "[encoded data removed]",
      "text/plain": [
       "<Figure size 432x288 with 1 Axes>"
      ]
     },
     "metadata": {
      "needs_background": "light"
     },
     "output_type": "display_data"
    }
   ],
   "source": [
    "# Create bar chart for department_profile\n",
    "\n",
    "department_profile_bar = df_department_profile.plot.bar(color = ['green'])\n",
    "plt.legend(title='Department Profiles')"
   ]
  },
  {
   "cell_type": "code",
   "execution_count": 42,
   "id": "a3daa5fb",
   "metadata": {},
   "outputs": [],
   "source": [
    "# Export department_profile_bar as image file to Visualizations folder\n",
    "\n",
    "department_profile_bar.figure.savefig(os.path.join(path, '04 Analysis','Visualizations', 'department_profile_bar.png'))"
   ]
  },
  {
   "cell_type": "code",
   "execution_count": 43,
   "id": "7d5614ed",
   "metadata": {},
   "outputs": [],
   "source": [
    "# Count of customer_id in each parent profile\n",
    "\n",
    "df_parent_profile = ords_prods_cust.groupby('parent_profile').agg({'customer_id':['nunique']})"
   ]
  },
  {
   "cell_type": "code",
   "execution_count": 44,
   "id": "3c264b4e",
   "metadata": {},
   "outputs": [
    {
     "data": {
      "text/html": [
       "<div>\n",
       "<style scoped>\n",
       "    .dataframe tbody tr th:only-of-type {\n",
       "        vertical-align: middle;\n",
       "    }\n",
       "\n",
       "    .dataframe tbody tr th {\n",
       "        vertical-align: top;\n",
       "    }\n",
       "\n",
       "    .dataframe thead tr th {\n",
       "        text-align: left;\n",
       "    }\n",
       "\n",
       "    .dataframe thead tr:last-of-type th {\n",
       "        text-align: right;\n",
       "    }\n",
       "</style>\n",
       "<table border=\"1\" class=\"dataframe\">\n",
       "  <thead>\n",
       "    <tr>\n",
       "      <th></th>\n",
       "      <th>customer_id</th>\n",
       "    </tr>\n",
       "    <tr>\n",
       "      <th></th>\n",
       "      <th>nunique</th>\n",
       "    </tr>\n",
       "    <tr>\n",
       "      <th>parent_profile</th>\n",
       "      <th></th>\n",
       "    </tr>\n",
       "  </thead>\n",
       "  <tbody>\n",
       "    <tr>\n",
       "      <th>Senior Parent</th>\n",
       "      <td>78444</td>\n",
       "    </tr>\n",
       "    <tr>\n",
       "      <th>Senior, No Dependants</th>\n",
       "      <td>25999</td>\n",
       "    </tr>\n",
       "    <tr>\n",
       "      <th>Young Parent</th>\n",
       "      <td>43460</td>\n",
       "    </tr>\n",
       "    <tr>\n",
       "      <th>Young, No Dependants</th>\n",
       "      <td>14728</td>\n",
       "    </tr>\n",
       "  </tbody>\n",
       "</table>\n",
       "</div>"
      ],
      "text/plain": [
       "                      customer_id\n",
       "                          nunique\n",
       "parent_profile                   \n",
       "Senior Parent               78444\n",
       "Senior, No Dependants       25999\n",
       "Young Parent                43460\n",
       "Young, No Dependants        14728"
      ]
     },
     "execution_count": 44,
     "metadata": {},
     "output_type": "execute_result"
    }
   ],
   "source": [
    "# Check columns of new df_parent_profile\n",
    "\n",
    "df_parent_profile.head()"
   ]
  },
  {
   "cell_type": "code",
   "execution_count": 45,
   "id": "953df6f8",
   "metadata": {},
   "outputs": [
    {
     "data": {
      "text/plain": [
       "<matplotlib.legend.Legend at 0x1b79b496550>"
      ]
     },
     "execution_count": 45,
     "metadata": {},
     "output_type": "execute_result"
    },
    {
     "data": {
      "image/png": "[encoded data removed]",
      "text/plain": [
       "<Figure size 432x288 with 1 Axes>"
      ]
     },
     "metadata": {
      "needs_background": "light"
     },
     "output_type": "display_data"
    }
   ],
   "source": [
    "# Create bar chart for parent_profile\n",
    "\n",
    "parent_profile_bar = df_parent_profile.plot.bar(color = ['green'])\n",
    "plt.legend(title='Parent Profiles')"
   ]
  },
  {
   "cell_type": "code",
   "execution_count": 46,
   "id": "24f1071a",
   "metadata": {},
   "outputs": [],
   "source": [
    "# Export parent_profile_bar as image file to Visualizations folder\n",
    "\n",
    "parent_profile_bar.figure.savefig(os.path.join(path, '04 Analysis','Visualizations', 'parent_profile_bar.png'))"
   ]
  },
  {
   "cell_type": "code",
   "execution_count": 47,
   "id": "59114584",
   "metadata": {},
   "outputs": [],
   "source": [
    "# Count of customer_id in each income profile\n",
    "\n",
    "df_income_profile = ords_prods_cust.groupby('income_profile').agg({'customer_id':['nunique']})"
   ]
  },
  {
   "cell_type": "code",
   "execution_count": 48,
   "id": "eaccca80",
   "metadata": {},
   "outputs": [
    {
     "data": {
      "text/html": [
       "<div>\n",
       "<style scoped>\n",
       "    .dataframe tbody tr th:only-of-type {\n",
       "        vertical-align: middle;\n",
       "    }\n",
       "\n",
       "    .dataframe tbody tr th {\n",
       "        vertical-align: top;\n",
       "    }\n",
       "\n",
       "    .dataframe thead tr th {\n",
       "        text-align: left;\n",
       "    }\n",
       "\n",
       "    .dataframe thead tr:last-of-type th {\n",
       "        text-align: right;\n",
       "    }\n",
       "</style>\n",
       "<table border=\"1\" class=\"dataframe\">\n",
       "  <thead>\n",
       "    <tr>\n",
       "      <th></th>\n",
       "      <th>customer_id</th>\n",
       "    </tr>\n",
       "    <tr>\n",
       "      <th></th>\n",
       "      <th>nunique</th>\n",
       "    </tr>\n",
       "    <tr>\n",
       "      <th>income_profile</th>\n",
       "      <th></th>\n",
       "    </tr>\n",
       "  </thead>\n",
       "  <tbody>\n",
       "    <tr>\n",
       "      <th>High Income</th>\n",
       "      <td>70080</td>\n",
       "    </tr>\n",
       "    <tr>\n",
       "      <th>Low Income</th>\n",
       "      <td>12625</td>\n",
       "    </tr>\n",
       "    <tr>\n",
       "      <th>Middle Income</th>\n",
       "      <td>79926</td>\n",
       "    </tr>\n",
       "  </tbody>\n",
       "</table>\n",
       "</div>"
      ],
      "text/plain": [
       "               customer_id\n",
       "                   nunique\n",
       "income_profile            \n",
       "High Income          70080\n",
       "Low Income           12625\n",
       "Middle Income        79926"
      ]
     },
     "execution_count": 48,
     "metadata": {},
     "output_type": "execute_result"
    }
   ],
   "source": [
    "# Check columns of new df_income_profile\n",
    "\n",
    "df_income_profile.head()"
   ]
  },
  {
   "cell_type": "code",
   "execution_count": 49,
   "id": "d8f45a02",
   "metadata": {},
   "outputs": [
    {
     "data": {
      "text/plain": [
       "<matplotlib.legend.Legend at 0x1b79b50f0a0>"
      ]
     },
     "execution_count": 49,
     "metadata": {},
     "output_type": "execute_result"
    },
    {
     "data": {
      "image/png": "[encoded data removed]",
      "text/plain": [
       "<Figure size 432x288 with 1 Axes>"
      ]
     },
     "metadata": {
      "needs_background": "light"
     },
     "output_type": "display_data"
    }
   ],
   "source": [
    "# Create bar chart for income_profile\n",
    "\n",
    "income_profile_bar = df_income_profile.plot.bar(color=['green'])\n",
    "plt.legend(title='Income Profiles')"
   ]
  },
  {
   "cell_type": "code",
   "execution_count": 50,
   "id": "2a872f0c",
   "metadata": {},
   "outputs": [],
   "source": [
    "# Export income_profile_bar as image file to Visualizations folder\n",
    "\n",
    "income_profile_bar.figure.savefig(os.path.join(path, '04 Analysis','Visualizations', 'income_profile_bar.png'))"
   ]
  },
  {
   "cell_type": "markdown",
   "id": "0695385c",
   "metadata": {},
   "source": [
    "## 07. Aggregate the max, mean, and min"
   ]
  },
  {
   "cell_type": "code",
   "execution_count": 51,
   "id": "ef5ff43d",
   "metadata": {},
   "outputs": [
    {
     "data": {
      "text/html": [
       "<div>\n",
       "<style scoped>\n",
       "    .dataframe tbody tr th:only-of-type {\n",
       "        vertical-align: middle;\n",
       "    }\n",
       "\n",
       "    .dataframe tbody tr th {\n",
       "        vertical-align: top;\n",
       "    }\n",
       "\n",
       "    .dataframe thead tr th {\n",
       "        text-align: left;\n",
       "    }\n",
       "\n",
       "    .dataframe thead tr:last-of-type th {\n",
       "        text-align: right;\n",
       "    }\n",
       "</style>\n",
       "<table border=\"1\" class=\"dataframe\">\n",
       "  <thead>\n",
       "    <tr>\n",
       "      <th></th>\n",
       "      <th colspan=\"4\" halign=\"left\">prices</th>\n",
       "    </tr>\n",
       "    <tr>\n",
       "      <th></th>\n",
       "      <th>max</th>\n",
       "      <th>min</th>\n",
       "      <th>mean</th>\n",
       "      <th>median</th>\n",
       "    </tr>\n",
       "    <tr>\n",
       "      <th>department_profile</th>\n",
       "      <th></th>\n",
       "      <th></th>\n",
       "      <th></th>\n",
       "      <th></th>\n",
       "    </tr>\n",
       "  </thead>\n",
       "  <tbody>\n",
       "    <tr>\n",
       "      <th>alcohol order</th>\n",
       "      <td>15.0</td>\n",
       "      <td>1.0</td>\n",
       "      <td>8.163218</td>\n",
       "      <td>7.5</td>\n",
       "    </tr>\n",
       "    <tr>\n",
       "      <th>baby order</th>\n",
       "      <td>15.0</td>\n",
       "      <td>1.0</td>\n",
       "      <td>7.619636</td>\n",
       "      <td>7.2</td>\n",
       "    </tr>\n",
       "    <tr>\n",
       "      <th>non-alcoholic beverages</th>\n",
       "      <td>15.0</td>\n",
       "      <td>1.0</td>\n",
       "      <td>7.693774</td>\n",
       "      <td>7.7</td>\n",
       "    </tr>\n",
       "    <tr>\n",
       "      <th>other</th>\n",
       "      <td>25.0</td>\n",
       "      <td>1.0</td>\n",
       "      <td>8.192130</td>\n",
       "      <td>8.2</td>\n",
       "    </tr>\n",
       "    <tr>\n",
       "      <th>pet order</th>\n",
       "      <td>15.0</td>\n",
       "      <td>1.0</td>\n",
       "      <td>7.881774</td>\n",
       "      <td>7.6</td>\n",
       "    </tr>\n",
       "    <tr>\n",
       "      <th>snack order</th>\n",
       "      <td>7.0</td>\n",
       "      <td>1.6</td>\n",
       "      <td>4.274953</td>\n",
       "      <td>4.2</td>\n",
       "    </tr>\n",
       "  </tbody>\n",
       "</table>\n",
       "</div>"
      ],
      "text/plain": [
       "                        prices                      \n",
       "                           max  min      mean median\n",
       "department_profile                                  \n",
       "alcohol order             15.0  1.0  8.163218    7.5\n",
       "baby order                15.0  1.0  7.619636    7.2\n",
       "non-alcoholic beverages   15.0  1.0  7.693774    7.7\n",
       "other                     25.0  1.0  8.192130    8.2\n",
       "pet order                 15.0  1.0  7.881774    7.6\n",
       "snack order                7.0  1.6  4.274953    4.2"
      ]
     },
     "execution_count": 51,
     "metadata": {},
     "output_type": "execute_result"
    }
   ],
   "source": [
    "# Department_profiles by prices\n",
    "\n",
    "ords_prods_cust.groupby('department_profile').agg({'prices':['max','min','mean','median']})"
   ]
  },
  {
   "cell_type": "markdown",
   "id": "94de413b",
   "metadata": {},
   "source": [
    "##### This shows the median price of pet orders is the highest, followed my alcohol. These departments may net more spend per customer."
   ]
  },
  {
   "cell_type": "code",
   "execution_count": 52,
   "id": "6d879188",
   "metadata": {},
   "outputs": [
    {
     "data": {
      "text/html": [
       "<div>\n",
       "<style scoped>\n",
       "    .dataframe tbody tr th:only-of-type {\n",
       "        vertical-align: middle;\n",
       "    }\n",
       "\n",
       "    .dataframe tbody tr th {\n",
       "        vertical-align: top;\n",
       "    }\n",
       "\n",
       "    .dataframe thead tr th {\n",
       "        text-align: left;\n",
       "    }\n",
       "\n",
       "    .dataframe thead tr:last-of-type th {\n",
       "        text-align: right;\n",
       "    }\n",
       "</style>\n",
       "<table border=\"1\" class=\"dataframe\">\n",
       "  <thead>\n",
       "    <tr>\n",
       "      <th></th>\n",
       "      <th colspan=\"4\" halign=\"left\">orders_day_of_week</th>\n",
       "    </tr>\n",
       "    <tr>\n",
       "      <th></th>\n",
       "      <th>max</th>\n",
       "      <th>min</th>\n",
       "      <th>mean</th>\n",
       "      <th>median</th>\n",
       "    </tr>\n",
       "    <tr>\n",
       "      <th>department_profile</th>\n",
       "      <th></th>\n",
       "      <th></th>\n",
       "      <th></th>\n",
       "      <th></th>\n",
       "    </tr>\n",
       "  </thead>\n",
       "  <tbody>\n",
       "    <tr>\n",
       "      <th>alcohol order</th>\n",
       "      <td>6</td>\n",
       "      <td>0</td>\n",
       "      <td>3.168942</td>\n",
       "      <td>3</td>\n",
       "    </tr>\n",
       "    <tr>\n",
       "      <th>baby order</th>\n",
       "      <td>6</td>\n",
       "      <td>0</td>\n",
       "      <td>2.717973</td>\n",
       "      <td>3</td>\n",
       "    </tr>\n",
       "    <tr>\n",
       "      <th>non-alcoholic beverages</th>\n",
       "      <td>6</td>\n",
       "      <td>0</td>\n",
       "      <td>2.810068</td>\n",
       "      <td>3</td>\n",
       "    </tr>\n",
       "    <tr>\n",
       "      <th>other</th>\n",
       "      <td>6</td>\n",
       "      <td>0</td>\n",
       "      <td>2.737876</td>\n",
       "      <td>3</td>\n",
       "    </tr>\n",
       "    <tr>\n",
       "      <th>pet order</th>\n",
       "      <td>6</td>\n",
       "      <td>0</td>\n",
       "      <td>2.932590</td>\n",
       "      <td>3</td>\n",
       "    </tr>\n",
       "    <tr>\n",
       "      <th>snack order</th>\n",
       "      <td>6</td>\n",
       "      <td>0</td>\n",
       "      <td>2.758467</td>\n",
       "      <td>3</td>\n",
       "    </tr>\n",
       "  </tbody>\n",
       "</table>\n",
       "</div>"
      ],
      "text/plain": [
       "                        orders_day_of_week                     \n",
       "                                       max min      mean median\n",
       "department_profile                                             \n",
       "alcohol order                            6   0  3.168942      3\n",
       "baby order                               6   0  2.717973      3\n",
       "non-alcoholic beverages                  6   0  2.810068      3\n",
       "other                                    6   0  2.737876      3\n",
       "pet order                                6   0  2.932590      3\n",
       "snack order                              6   0  2.758467      3"
      ]
     },
     "execution_count": 52,
     "metadata": {},
     "output_type": "execute_result"
    }
   ],
   "source": [
    "# Department_profiles by orders_day_of_week\n",
    "\n",
    "ords_prods_cust.groupby('department_profile').agg({'orders_day_of_week':['max','min','mean','median']})"
   ]
  },
  {
   "cell_type": "markdown",
   "id": "82c67fa0",
   "metadata": {},
   "source": [
    "##### This shows people are more likely to purchase alcohol on Tuesdays."
   ]
  },
  {
   "cell_type": "code",
   "execution_count": 53,
   "id": "a00f6f1b",
   "metadata": {},
   "outputs": [
    {
     "data": {
      "text/html": [
       "<div>\n",
       "<style scoped>\n",
       "    .dataframe tbody tr th:only-of-type {\n",
       "        vertical-align: middle;\n",
       "    }\n",
       "\n",
       "    .dataframe tbody tr th {\n",
       "        vertical-align: top;\n",
       "    }\n",
       "\n",
       "    .dataframe thead tr th {\n",
       "        text-align: left;\n",
       "    }\n",
       "\n",
       "    .dataframe thead tr:last-of-type th {\n",
       "        text-align: right;\n",
       "    }\n",
       "</style>\n",
       "<table border=\"1\" class=\"dataframe\">\n",
       "  <thead>\n",
       "    <tr>\n",
       "      <th></th>\n",
       "      <th colspan=\"4\" halign=\"left\">prices</th>\n",
       "    </tr>\n",
       "    <tr>\n",
       "      <th></th>\n",
       "      <th>max</th>\n",
       "      <th>min</th>\n",
       "      <th>mean</th>\n",
       "      <th>median</th>\n",
       "    </tr>\n",
       "    <tr>\n",
       "      <th>income_profile</th>\n",
       "      <th></th>\n",
       "      <th></th>\n",
       "      <th></th>\n",
       "      <th></th>\n",
       "    </tr>\n",
       "  </thead>\n",
       "  <tbody>\n",
       "    <tr>\n",
       "      <th>High Income</th>\n",
       "      <td>25.0</td>\n",
       "      <td>1.0</td>\n",
       "      <td>7.949013</td>\n",
       "      <td>7.6</td>\n",
       "    </tr>\n",
       "    <tr>\n",
       "      <th>Low Income</th>\n",
       "      <td>25.0</td>\n",
       "      <td>1.0</td>\n",
       "      <td>6.504960</td>\n",
       "      <td>5.8</td>\n",
       "    </tr>\n",
       "    <tr>\n",
       "      <th>Middle Income</th>\n",
       "      <td>25.0</td>\n",
       "      <td>1.0</td>\n",
       "      <td>7.775371</td>\n",
       "      <td>7.4</td>\n",
       "    </tr>\n",
       "  </tbody>\n",
       "</table>\n",
       "</div>"
      ],
      "text/plain": [
       "               prices                      \n",
       "                  max  min      mean median\n",
       "income_profile                             \n",
       "High Income      25.0  1.0  7.949013    7.6\n",
       "Low Income       25.0  1.0  6.504960    5.8\n",
       "Middle Income    25.0  1.0  7.775371    7.4"
      ]
     },
     "execution_count": 53,
     "metadata": {},
     "output_type": "execute_result"
    }
   ],
   "source": [
    "# Income_profiles by prices\n",
    "\n",
    "ords_prods_cust.groupby('income_profile').agg({'prices':['max','min','mean','median']})"
   ]
  },
  {
   "cell_type": "markdown",
   "id": "95b136ba",
   "metadata": {},
   "source": [
    "##### This shows high and middle income customers purchase more expensive items"
   ]
  },
  {
   "cell_type": "code",
   "execution_count": 54,
   "id": "8fca45d5",
   "metadata": {},
   "outputs": [
    {
     "data": {
      "text/html": [
       "<div>\n",
       "<style scoped>\n",
       "    .dataframe tbody tr th:only-of-type {\n",
       "        vertical-align: middle;\n",
       "    }\n",
       "\n",
       "    .dataframe tbody tr th {\n",
       "        vertical-align: top;\n",
       "    }\n",
       "\n",
       "    .dataframe thead tr th {\n",
       "        text-align: left;\n",
       "    }\n",
       "\n",
       "    .dataframe thead tr:last-of-type th {\n",
       "        text-align: right;\n",
       "    }\n",
       "</style>\n",
       "<table border=\"1\" class=\"dataframe\">\n",
       "  <thead>\n",
       "    <tr>\n",
       "      <th></th>\n",
       "      <th colspan=\"4\" halign=\"left\">orders_day_of_week</th>\n",
       "    </tr>\n",
       "    <tr>\n",
       "      <th></th>\n",
       "      <th>max</th>\n",
       "      <th>min</th>\n",
       "      <th>mean</th>\n",
       "      <th>median</th>\n",
       "    </tr>\n",
       "    <tr>\n",
       "      <th>income_profile</th>\n",
       "      <th></th>\n",
       "      <th></th>\n",
       "      <th></th>\n",
       "      <th></th>\n",
       "    </tr>\n",
       "  </thead>\n",
       "  <tbody>\n",
       "    <tr>\n",
       "      <th>High Income</th>\n",
       "      <td>6</td>\n",
       "      <td>0</td>\n",
       "      <td>2.756372</td>\n",
       "      <td>3</td>\n",
       "    </tr>\n",
       "    <tr>\n",
       "      <th>Low Income</th>\n",
       "      <td>6</td>\n",
       "      <td>0</td>\n",
       "      <td>2.740514</td>\n",
       "      <td>3</td>\n",
       "    </tr>\n",
       "    <tr>\n",
       "      <th>Middle Income</th>\n",
       "      <td>6</td>\n",
       "      <td>0</td>\n",
       "      <td>2.740809</td>\n",
       "      <td>3</td>\n",
       "    </tr>\n",
       "  </tbody>\n",
       "</table>\n",
       "</div>"
      ],
      "text/plain": [
       "               orders_day_of_week                     \n",
       "                              max min      mean median\n",
       "income_profile                                        \n",
       "High Income                     6   0  2.756372      3\n",
       "Low Income                      6   0  2.740514      3\n",
       "Middle Income                   6   0  2.740809      3"
      ]
     },
     "execution_count": 54,
     "metadata": {},
     "output_type": "execute_result"
    }
   ],
   "source": [
    "# Income_profiles by orders_day_of_week\n",
    "\n",
    "ords_prods_cust.groupby('income_profile').agg({'orders_day_of_week':['max','min','mean','median']})"
   ]
  },
  {
   "cell_type": "markdown",
   "id": "3fef5e28",
   "metadata": {},
   "source": [
    "##### This shows there is no significant difference between income levels and the day of week they place orders"
   ]
  },
  {
   "cell_type": "code",
   "execution_count": 55,
   "id": "e7cf13c6",
   "metadata": {},
   "outputs": [
    {
     "data": {
      "text/html": [
       "<div>\n",
       "<style scoped>\n",
       "    .dataframe tbody tr th:only-of-type {\n",
       "        vertical-align: middle;\n",
       "    }\n",
       "\n",
       "    .dataframe tbody tr th {\n",
       "        vertical-align: top;\n",
       "    }\n",
       "\n",
       "    .dataframe thead tr th {\n",
       "        text-align: left;\n",
       "    }\n",
       "\n",
       "    .dataframe thead tr:last-of-type th {\n",
       "        text-align: right;\n",
       "    }\n",
       "</style>\n",
       "<table border=\"1\" class=\"dataframe\">\n",
       "  <thead>\n",
       "    <tr>\n",
       "      <th></th>\n",
       "      <th colspan=\"4\" halign=\"left\">orders_day_of_week</th>\n",
       "    </tr>\n",
       "    <tr>\n",
       "      <th></th>\n",
       "      <th>max</th>\n",
       "      <th>min</th>\n",
       "      <th>mean</th>\n",
       "      <th>median</th>\n",
       "    </tr>\n",
       "    <tr>\n",
       "      <th>parent_profile</th>\n",
       "      <th></th>\n",
       "      <th></th>\n",
       "      <th></th>\n",
       "      <th></th>\n",
       "    </tr>\n",
       "  </thead>\n",
       "  <tbody>\n",
       "    <tr>\n",
       "      <th>Senior Parent</th>\n",
       "      <td>6</td>\n",
       "      <td>0</td>\n",
       "      <td>2.754553</td>\n",
       "      <td>3</td>\n",
       "    </tr>\n",
       "    <tr>\n",
       "      <th>Senior, No Dependants</th>\n",
       "      <td>6</td>\n",
       "      <td>0</td>\n",
       "      <td>2.749069</td>\n",
       "      <td>3</td>\n",
       "    </tr>\n",
       "    <tr>\n",
       "      <th>Young Parent</th>\n",
       "      <td>6</td>\n",
       "      <td>0</td>\n",
       "      <td>2.742100</td>\n",
       "      <td>3</td>\n",
       "    </tr>\n",
       "    <tr>\n",
       "      <th>Young, No Dependants</th>\n",
       "      <td>6</td>\n",
       "      <td>0</td>\n",
       "      <td>2.728309</td>\n",
       "      <td>3</td>\n",
       "    </tr>\n",
       "  </tbody>\n",
       "</table>\n",
       "</div>"
      ],
      "text/plain": [
       "                      orders_day_of_week                     \n",
       "                                     max min      mean median\n",
       "parent_profile                                               \n",
       "Senior Parent                          6   0  2.754553      3\n",
       "Senior, No Dependants                  6   0  2.749069      3\n",
       "Young Parent                           6   0  2.742100      3\n",
       "Young, No Dependants                   6   0  2.728309      3"
      ]
     },
     "execution_count": 55,
     "metadata": {},
     "output_type": "execute_result"
    }
   ],
   "source": [
    "# Parent_profiles by orders_day_of_week\n",
    "\n",
    "ords_prods_cust.groupby('parent_profile').agg({'orders_day_of_week':['max','min','mean','median']})"
   ]
  },
  {
   "cell_type": "markdown",
   "id": "5a35b8e6",
   "metadata": {},
   "source": [
    "##### This shows there is no significant difference between parent profiles and the day of week they place orders"
   ]
  },
  {
   "cell_type": "code",
   "execution_count": 56,
   "id": "e9a16366",
   "metadata": {},
   "outputs": [
    {
     "data": {
      "text/html": [
       "<div>\n",
       "<style scoped>\n",
       "    .dataframe tbody tr th:only-of-type {\n",
       "        vertical-align: middle;\n",
       "    }\n",
       "\n",
       "    .dataframe tbody tr th {\n",
       "        vertical-align: top;\n",
       "    }\n",
       "\n",
       "    .dataframe thead tr th {\n",
       "        text-align: left;\n",
       "    }\n",
       "\n",
       "    .dataframe thead tr:last-of-type th {\n",
       "        text-align: right;\n",
       "    }\n",
       "</style>\n",
       "<table border=\"1\" class=\"dataframe\">\n",
       "  <thead>\n",
       "    <tr>\n",
       "      <th></th>\n",
       "      <th colspan=\"4\" halign=\"left\">prices</th>\n",
       "    </tr>\n",
       "    <tr>\n",
       "      <th></th>\n",
       "      <th>max</th>\n",
       "      <th>min</th>\n",
       "      <th>mean</th>\n",
       "      <th>median</th>\n",
       "    </tr>\n",
       "    <tr>\n",
       "      <th>parent_profile</th>\n",
       "      <th></th>\n",
       "      <th></th>\n",
       "      <th></th>\n",
       "      <th></th>\n",
       "    </tr>\n",
       "  </thead>\n",
       "  <tbody>\n",
       "    <tr>\n",
       "      <th>Senior Parent</th>\n",
       "      <td>25.0</td>\n",
       "      <td>1.0</td>\n",
       "      <td>7.792250</td>\n",
       "      <td>7.4</td>\n",
       "    </tr>\n",
       "    <tr>\n",
       "      <th>Senior, No Dependants</th>\n",
       "      <td>25.0</td>\n",
       "      <td>1.0</td>\n",
       "      <td>7.795595</td>\n",
       "      <td>7.4</td>\n",
       "    </tr>\n",
       "    <tr>\n",
       "      <th>Young Parent</th>\n",
       "      <td>25.0</td>\n",
       "      <td>1.0</td>\n",
       "      <td>7.787591</td>\n",
       "      <td>7.4</td>\n",
       "    </tr>\n",
       "    <tr>\n",
       "      <th>Young, No Dependants</th>\n",
       "      <td>25.0</td>\n",
       "      <td>1.0</td>\n",
       "      <td>7.782726</td>\n",
       "      <td>7.4</td>\n",
       "    </tr>\n",
       "  </tbody>\n",
       "</table>\n",
       "</div>"
      ],
      "text/plain": [
       "                      prices                      \n",
       "                         max  min      mean median\n",
       "parent_profile                                    \n",
       "Senior Parent           25.0  1.0  7.792250    7.4\n",
       "Senior, No Dependants   25.0  1.0  7.795595    7.4\n",
       "Young Parent            25.0  1.0  7.787591    7.4\n",
       "Young, No Dependants    25.0  1.0  7.782726    7.4"
      ]
     },
     "execution_count": 56,
     "metadata": {},
     "output_type": "execute_result"
    }
   ],
   "source": [
    "# Parent_profiles by prices\n",
    "\n",
    "ords_prods_cust.groupby('parent_profile').agg({'prices':['max','min','mean','median']})"
   ]
  },
  {
   "cell_type": "markdown",
   "id": "73197ddc",
   "metadata": {},
   "source": [
    "##### This shows there is no significant difference between parent profiles and the price of items they order"
   ]
  },
  {
   "cell_type": "markdown",
   "id": "753bedfb",
   "metadata": {},
   "source": [
    "## 08. Compare customer profiles with regions and departments"
   ]
  },
  {
   "cell_type": "code",
   "execution_count": 57,
   "id": "87fefcea",
   "metadata": {},
   "outputs": [],
   "source": [
    "# Department_profile by region\n",
    "\n",
    "crosstab_department_profile_region = pd.crosstab(ords_prods_cust['Region'],ords_prods_cust['department_profile'], dropna=False )"
   ]
  },
  {
   "cell_type": "code",
   "execution_count": 58,
   "id": "8cca9c9b",
   "metadata": {},
   "outputs": [
    {
     "data": {
      "text/html": [
       "<div>\n",
       "<style scoped>\n",
       "    .dataframe tbody tr th:only-of-type {\n",
       "        vertical-align: middle;\n",
       "    }\n",
       "\n",
       "    .dataframe tbody tr th {\n",
       "        vertical-align: top;\n",
       "    }\n",
       "\n",
       "    .dataframe thead th {\n",
       "        text-align: right;\n",
       "    }\n",
       "</style>\n",
       "<table border=\"1\" class=\"dataframe\">\n",
       "  <thead>\n",
       "    <tr style=\"text-align: right;\">\n",
       "      <th>department_profile</th>\n",
       "      <th>alcohol order</th>\n",
       "      <th>baby order</th>\n",
       "      <th>non-alcoholic beverages</th>\n",
       "      <th>other</th>\n",
       "      <th>pet order</th>\n",
       "      <th>snack order</th>\n",
       "    </tr>\n",
       "    <tr>\n",
       "      <th>Region</th>\n",
       "      <th></th>\n",
       "      <th></th>\n",
       "      <th></th>\n",
       "      <th></th>\n",
       "      <th></th>\n",
       "      <th></th>\n",
       "    </tr>\n",
       "  </thead>\n",
       "  <tbody>\n",
       "    <tr>\n",
       "      <th>Midwest</th>\n",
       "      <td>25567</td>\n",
       "      <td>78496</td>\n",
       "      <td>472243</td>\n",
       "      <td>4609821</td>\n",
       "      <td>16481</td>\n",
       "      <td>509148</td>\n",
       "    </tr>\n",
       "    <tr>\n",
       "      <th>Northeast</th>\n",
       "      <td>18534</td>\n",
       "      <td>59555</td>\n",
       "      <td>367868</td>\n",
       "      <td>3465501</td>\n",
       "      <td>14080</td>\n",
       "      <td>389733</td>\n",
       "    </tr>\n",
       "    <tr>\n",
       "      <th>South</th>\n",
       "      <td>36253</td>\n",
       "      <td>113970</td>\n",
       "      <td>680594</td>\n",
       "      <td>6550290</td>\n",
       "      <td>23012</td>\n",
       "      <td>724967</td>\n",
       "    </tr>\n",
       "    <tr>\n",
       "      <th>West</th>\n",
       "      <td>27618</td>\n",
       "      <td>83926</td>\n",
       "      <td>515742</td>\n",
       "      <td>5049667</td>\n",
       "      <td>18538</td>\n",
       "      <td>563273</td>\n",
       "    </tr>\n",
       "  </tbody>\n",
       "</table>\n",
       "</div>"
      ],
      "text/plain": [
       "department_profile  alcohol order  baby order  non-alcoholic beverages  \\\n",
       "Region                                                                   \n",
       "Midwest                     25567       78496                   472243   \n",
       "Northeast                   18534       59555                   367868   \n",
       "South                       36253      113970                   680594   \n",
       "West                        27618       83926                   515742   \n",
       "\n",
       "department_profile    other  pet order  snack order  \n",
       "Region                                               \n",
       "Midwest             4609821      16481       509148  \n",
       "Northeast           3465501      14080       389733  \n",
       "South               6550290      23012       724967  \n",
       "West                5049667      18538       563273  "
      ]
     },
     "execution_count": 58,
     "metadata": {},
     "output_type": "execute_result"
    }
   ],
   "source": [
    "crosstab_department_profile_region"
   ]
  },
  {
   "cell_type": "code",
   "execution_count": 59,
   "id": "81c5a8ef",
   "metadata": {},
   "outputs": [
    {
     "data": {
      "text/plain": [
       "<matplotlib.legend.Legend at 0x1b79b5857f0>"
      ]
     },
     "execution_count": 59,
     "metadata": {},
     "output_type": "execute_result"
    },
    {
     "data": {
      "image/png": "[encoded data removed]",
      "text/plain": [
       "<Figure size 432x288 with 1 Axes>"
      ]
     },
     "metadata": {
      "needs_background": "light"
     },
     "output_type": "display_data"
    }
   ],
   "source": [
    "# Department_profile by region stacked bar chart\n",
    "\n",
    "department_profile_region_stacked_bar = department_profile_region_stacked_bar = crosstab_department_profile_region.plot.bar(stacked = True)\n",
    "plt.legend(title='Region by department profile')"
   ]
  },
  {
   "cell_type": "code",
   "execution_count": 60,
   "id": "dae6ac73",
   "metadata": {},
   "outputs": [],
   "source": [
    "# Export department_profile_region_stacked_bar as image file to Visualizations folder\n",
    "\n",
    "department_profile_region_stacked_bar.figure.savefig(os.path.join(path, '04 Analysis','Visualizations', 'department_profile_region_stacked_bar.png'))"
   ]
  },
  {
   "cell_type": "code",
   "execution_count": 61,
   "id": "9635df03",
   "metadata": {},
   "outputs": [],
   "source": [
    "# Parent_profile by region\n",
    "\n",
    "crosstab_parent_profile_region = pd.crosstab(ords_prods_cust['Region'],ords_prods_cust['parent_profile'], dropna=False )"
   ]
  },
  {
   "cell_type": "code",
   "execution_count": 62,
   "id": "2a54abf3",
   "metadata": {},
   "outputs": [
    {
     "data": {
      "text/html": [
       "<div>\n",
       "<style scoped>\n",
       "    .dataframe tbody tr th:only-of-type {\n",
       "        vertical-align: middle;\n",
       "    }\n",
       "\n",
       "    .dataframe tbody tr th {\n",
       "        vertical-align: top;\n",
       "    }\n",
       "\n",
       "    .dataframe thead th {\n",
       "        text-align: right;\n",
       "    }\n",
       "</style>\n",
       "<table border=\"1\" class=\"dataframe\">\n",
       "  <thead>\n",
       "    <tr style=\"text-align: right;\">\n",
       "      <th>parent_profile</th>\n",
       "      <th>Senior Parent</th>\n",
       "      <th>Senior, No Dependants</th>\n",
       "      <th>Young Parent</th>\n",
       "      <th>Young, No Dependants</th>\n",
       "    </tr>\n",
       "    <tr>\n",
       "      <th>Region</th>\n",
       "      <th></th>\n",
       "      <th></th>\n",
       "      <th></th>\n",
       "      <th></th>\n",
       "    </tr>\n",
       "  </thead>\n",
       "  <tbody>\n",
       "    <tr>\n",
       "      <th>Midwest</th>\n",
       "      <td>2744172</td>\n",
       "      <td>927872</td>\n",
       "      <td>1530623</td>\n",
       "      <td>509089</td>\n",
       "    </tr>\n",
       "    <tr>\n",
       "      <th>Northeast</th>\n",
       "      <td>2089554</td>\n",
       "      <td>681503</td>\n",
       "      <td>1160579</td>\n",
       "      <td>383635</td>\n",
       "    </tr>\n",
       "    <tr>\n",
       "      <th>South</th>\n",
       "      <td>3854266</td>\n",
       "      <td>1292851</td>\n",
       "      <td>2236486</td>\n",
       "      <td>745483</td>\n",
       "    </tr>\n",
       "    <tr>\n",
       "      <th>West</th>\n",
       "      <td>3008135</td>\n",
       "      <td>1016832</td>\n",
       "      <td>1686060</td>\n",
       "      <td>547737</td>\n",
       "    </tr>\n",
       "  </tbody>\n",
       "</table>\n",
       "</div>"
      ],
      "text/plain": [
       "parent_profile  Senior Parent  Senior, No Dependants  Young Parent  \\\n",
       "Region                                                               \n",
       "Midwest               2744172                 927872       1530623   \n",
       "Northeast             2089554                 681503       1160579   \n",
       "South                 3854266                1292851       2236486   \n",
       "West                  3008135                1016832       1686060   \n",
       "\n",
       "parent_profile  Young, No Dependants  \n",
       "Region                                \n",
       "Midwest                       509089  \n",
       "Northeast                     383635  \n",
       "South                         745483  \n",
       "West                          547737  "
      ]
     },
     "execution_count": 62,
     "metadata": {},
     "output_type": "execute_result"
    }
   ],
   "source": [
    "crosstab_parent_profile_region"
   ]
  },
  {
   "cell_type": "code",
   "execution_count": 63,
   "id": "20b4e4f5",
   "metadata": {},
   "outputs": [
    {
     "data": {
      "text/plain": [
       "<matplotlib.legend.Legend at 0x1b79b64b7f0>"
      ]
     },
     "execution_count": 63,
     "metadata": {},
     "output_type": "execute_result"
    },
    {
     "data": {
      "image/png": "[encoded data removed]",
      "text/plain": [
       "<Figure size 432x288 with 1 Axes>"
      ]
     },
     "metadata": {
      "needs_background": "light"
     },
     "output_type": "display_data"
    }
   ],
   "source": [
    "# Parent_profile by region stacked bar chart\n",
    "\n",
    "parent_profile_region_stacked_bar = crosstab_parent_profile_region.plot.bar(stacked = True)\n",
    "plt.legend(title='Parent Profile by Region')"
   ]
  },
  {
   "cell_type": "code",
   "execution_count": 64,
   "id": "1595c963",
   "metadata": {},
   "outputs": [],
   "source": [
    "# Export parent_profile_region_stacked_bar as image file to Visualizations folder\n",
    "\n",
    "parent_profile_region_stacked_bar.figure.savefig(os.path.join(path, '04 Analysis','Visualizations', 'parent_profile_region_stacked_bar.png'))"
   ]
  },
  {
   "cell_type": "code",
   "execution_count": 65,
   "id": "c5c3acf1",
   "metadata": {},
   "outputs": [],
   "source": [
    "# Parent_profile by department\n",
    "\n",
    "crosstab_parent_profile_department = pd.crosstab(ords_prods_cust['department_id'],ords_prods_cust['parent_profile'], dropna=False )"
   ]
  },
  {
   "cell_type": "code",
   "execution_count": 66,
   "id": "47bb8f5b",
   "metadata": {},
   "outputs": [
    {
     "data": {
      "text/html": [
       "<div>\n",
       "<style scoped>\n",
       "    .dataframe tbody tr th:only-of-type {\n",
       "        vertical-align: middle;\n",
       "    }\n",
       "\n",
       "    .dataframe tbody tr th {\n",
       "        vertical-align: top;\n",
       "    }\n",
       "\n",
       "    .dataframe thead th {\n",
       "        text-align: right;\n",
       "    }\n",
       "</style>\n",
       "<table border=\"1\" class=\"dataframe\">\n",
       "  <thead>\n",
       "    <tr style=\"text-align: right;\">\n",
       "      <th>parent_profile</th>\n",
       "      <th>Senior Parent</th>\n",
       "      <th>Senior, No Dependants</th>\n",
       "      <th>Young Parent</th>\n",
       "      <th>Young, No Dependants</th>\n",
       "    </tr>\n",
       "    <tr>\n",
       "      <th>department_id</th>\n",
       "      <th></th>\n",
       "      <th></th>\n",
       "      <th></th>\n",
       "      <th></th>\n",
       "    </tr>\n",
       "  </thead>\n",
       "  <tbody>\n",
       "    <tr>\n",
       "      <th>1</th>\n",
       "      <td>781084</td>\n",
       "      <td>263982</td>\n",
       "      <td>441017</td>\n",
       "      <td>141531</td>\n",
       "    </tr>\n",
       "    <tr>\n",
       "      <th>2</th>\n",
       "      <td>12859</td>\n",
       "      <td>4391</td>\n",
       "      <td>7372</td>\n",
       "      <td>2544</td>\n",
       "    </tr>\n",
       "    <tr>\n",
       "      <th>3</th>\n",
       "      <td>423562</td>\n",
       "      <td>142324</td>\n",
       "      <td>238169</td>\n",
       "      <td>79275</td>\n",
       "    </tr>\n",
       "    <tr>\n",
       "      <th>4</th>\n",
       "      <td>3456721</td>\n",
       "      <td>1162611</td>\n",
       "      <td>1957485</td>\n",
       "      <td>650274</td>\n",
       "    </tr>\n",
       "    <tr>\n",
       "      <th>5</th>\n",
       "      <td>49455</td>\n",
       "      <td>18157</td>\n",
       "      <td>30558</td>\n",
       "      <td>9802</td>\n",
       "    </tr>\n",
       "    <tr>\n",
       "      <th>6</th>\n",
       "      <td>93807</td>\n",
       "      <td>31930</td>\n",
       "      <td>54055</td>\n",
       "      <td>18108</td>\n",
       "    </tr>\n",
       "    <tr>\n",
       "      <th>7</th>\n",
       "      <td>983160</td>\n",
       "      <td>328160</td>\n",
       "      <td>541232</td>\n",
       "      <td>183895</td>\n",
       "    </tr>\n",
       "    <tr>\n",
       "      <th>8</th>\n",
       "      <td>34453</td>\n",
       "      <td>11715</td>\n",
       "      <td>19408</td>\n",
       "      <td>6535</td>\n",
       "    </tr>\n",
       "    <tr>\n",
       "      <th>9</th>\n",
       "      <td>303807</td>\n",
       "      <td>101336</td>\n",
       "      <td>172504</td>\n",
       "      <td>56078</td>\n",
       "    </tr>\n",
       "    <tr>\n",
       "      <th>10</th>\n",
       "      <td>13384</td>\n",
       "      <td>4232</td>\n",
       "      <td>7589</td>\n",
       "      <td>2353</td>\n",
       "    </tr>\n",
       "    <tr>\n",
       "      <th>11</th>\n",
       "      <td>157896</td>\n",
       "      <td>52521</td>\n",
       "      <td>88223</td>\n",
       "      <td>29840</td>\n",
       "    </tr>\n",
       "    <tr>\n",
       "      <th>12</th>\n",
       "      <td>253495</td>\n",
       "      <td>82980</td>\n",
       "      <td>142189</td>\n",
       "      <td>45226</td>\n",
       "    </tr>\n",
       "    <tr>\n",
       "      <th>13</th>\n",
       "      <td>665910</td>\n",
       "      <td>222381</td>\n",
       "      <td>374147</td>\n",
       "      <td>122937</td>\n",
       "    </tr>\n",
       "    <tr>\n",
       "      <th>14</th>\n",
       "      <td>251610</td>\n",
       "      <td>83667</td>\n",
       "      <td>143175</td>\n",
       "      <td>46493</td>\n",
       "    </tr>\n",
       "    <tr>\n",
       "      <th>15</th>\n",
       "      <td>378208</td>\n",
       "      <td>124481</td>\n",
       "      <td>214133</td>\n",
       "      <td>70968</td>\n",
       "    </tr>\n",
       "    <tr>\n",
       "      <th>16</th>\n",
       "      <td>1967535</td>\n",
       "      <td>660178</td>\n",
       "      <td>1122715</td>\n",
       "      <td>370060</td>\n",
       "    </tr>\n",
       "    <tr>\n",
       "      <th>17</th>\n",
       "      <td>261350</td>\n",
       "      <td>84239</td>\n",
       "      <td>145840</td>\n",
       "      <td>47920</td>\n",
       "    </tr>\n",
       "    <tr>\n",
       "      <th>18</th>\n",
       "      <td>161553</td>\n",
       "      <td>53691</td>\n",
       "      <td>90081</td>\n",
       "      <td>30622</td>\n",
       "    </tr>\n",
       "    <tr>\n",
       "      <th>19</th>\n",
       "      <td>1045032</td>\n",
       "      <td>349963</td>\n",
       "      <td>596650</td>\n",
       "      <td>195476</td>\n",
       "    </tr>\n",
       "    <tr>\n",
       "      <th>20</th>\n",
       "      <td>373439</td>\n",
       "      <td>127402</td>\n",
       "      <td>211578</td>\n",
       "      <td>70592</td>\n",
       "    </tr>\n",
       "    <tr>\n",
       "      <th>21</th>\n",
       "      <td>27807</td>\n",
       "      <td>8717</td>\n",
       "      <td>15628</td>\n",
       "      <td>5415</td>\n",
       "    </tr>\n",
       "  </tbody>\n",
       "</table>\n",
       "</div>"
      ],
      "text/plain": [
       "parent_profile  Senior Parent  Senior, No Dependants  Young Parent  \\\n",
       "department_id                                                        \n",
       "1                      781084                 263982        441017   \n",
       "2                       12859                   4391          7372   \n",
       "3                      423562                 142324        238169   \n",
       "4                     3456721                1162611       1957485   \n",
       "5                       49455                  18157         30558   \n",
       "6                       93807                  31930         54055   \n",
       "7                      983160                 328160        541232   \n",
       "8                       34453                  11715         19408   \n",
       "9                      303807                 101336        172504   \n",
       "10                      13384                   4232          7589   \n",
       "11                     157896                  52521         88223   \n",
       "12                     253495                  82980        142189   \n",
       "13                     665910                 222381        374147   \n",
       "14                     251610                  83667        143175   \n",
       "15                     378208                 124481        214133   \n",
       "16                    1967535                 660178       1122715   \n",
       "17                     261350                  84239        145840   \n",
       "18                     161553                  53691         90081   \n",
       "19                    1045032                 349963        596650   \n",
       "20                     373439                 127402        211578   \n",
       "21                      27807                   8717         15628   \n",
       "\n",
       "parent_profile  Young, No Dependants  \n",
       "department_id                         \n",
       "1                             141531  \n",
       "2                               2544  \n",
       "3                              79275  \n",
       "4                             650274  \n",
       "5                               9802  \n",
       "6                              18108  \n",
       "7                             183895  \n",
       "8                               6535  \n",
       "9                              56078  \n",
       "10                              2353  \n",
       "11                             29840  \n",
       "12                             45226  \n",
       "13                            122937  \n",
       "14                             46493  \n",
       "15                             70968  \n",
       "16                            370060  \n",
       "17                             47920  \n",
       "18                             30622  \n",
       "19                            195476  \n",
       "20                             70592  \n",
       "21                              5415  "
      ]
     },
     "execution_count": 66,
     "metadata": {},
     "output_type": "execute_result"
    }
   ],
   "source": [
    "crosstab_parent_profile_department"
   ]
  },
  {
   "cell_type": "code",
   "execution_count": 67,
   "id": "04b59b6e",
   "metadata": {},
   "outputs": [
    {
     "data": {
      "text/plain": [
       "<matplotlib.legend.Legend at 0x1b79b6a6580>"
      ]
     },
     "execution_count": 67,
     "metadata": {},
     "output_type": "execute_result"
    },
    {
     "data": {
      "image/png": "[encoded data removed]",
      "text/plain": [
       "<Figure size 432x288 with 1 Axes>"
      ]
     },
     "metadata": {
      "needs_background": "light"
     },
     "output_type": "display_data"
    }
   ],
   "source": [
    "# Parent_profile by department stacked bar chart\n",
    "\n",
    "parent_profile_department_stacked_bar = crosstab_parent_profile_department.plot.bar(stacked = True)\n",
    "plt.legend(title='Parent Profile by Department')"
   ]
  },
  {
   "cell_type": "code",
   "execution_count": 68,
   "id": "2a4ad4f5",
   "metadata": {},
   "outputs": [],
   "source": [
    "# Export parent_profile_department_stacked_bar as image file to Visualizations folder\n",
    "\n",
    "parent_profile_department_stacked_bar.figure.savefig(os.path.join(path, '04 Analysis','Visualizations', 'parent_profile_department_stacked_bar.png'))"
   ]
  },
  {
   "cell_type": "code",
   "execution_count": 69,
   "id": "321603f5",
   "metadata": {},
   "outputs": [],
   "source": [
    "# Income_profile by region\n",
    "\n",
    "crosstab_income_profile_region = pd.crosstab(ords_prods_cust['Region'],ords_prods_cust['income_profile'], dropna=False )"
   ]
  },
  {
   "cell_type": "code",
   "execution_count": 70,
   "id": "7ea93062",
   "metadata": {},
   "outputs": [
    {
     "data": {
      "text/html": [
       "<div>\n",
       "<style scoped>\n",
       "    .dataframe tbody tr th:only-of-type {\n",
       "        vertical-align: middle;\n",
       "    }\n",
       "\n",
       "    .dataframe tbody tr th {\n",
       "        vertical-align: top;\n",
       "    }\n",
       "\n",
       "    .dataframe thead th {\n",
       "        text-align: right;\n",
       "    }\n",
       "</style>\n",
       "<table border=\"1\" class=\"dataframe\">\n",
       "  <thead>\n",
       "    <tr style=\"text-align: right;\">\n",
       "      <th>income_profile</th>\n",
       "      <th>High Income</th>\n",
       "      <th>Low Income</th>\n",
       "      <th>Middle Income</th>\n",
       "    </tr>\n",
       "    <tr>\n",
       "      <th>Region</th>\n",
       "      <th></th>\n",
       "      <th></th>\n",
       "      <th></th>\n",
       "    </tr>\n",
       "  </thead>\n",
       "  <tbody>\n",
       "    <tr>\n",
       "      <th>Midwest</th>\n",
       "      <td>2684901</td>\n",
       "      <td>287467</td>\n",
       "      <td>2739388</td>\n",
       "    </tr>\n",
       "    <tr>\n",
       "      <th>Northeast</th>\n",
       "      <td>1989949</td>\n",
       "      <td>216982</td>\n",
       "      <td>2108340</td>\n",
       "    </tr>\n",
       "    <tr>\n",
       "      <th>South</th>\n",
       "      <td>3679956</td>\n",
       "      <td>427488</td>\n",
       "      <td>4021642</td>\n",
       "    </tr>\n",
       "    <tr>\n",
       "      <th>West</th>\n",
       "      <td>2870903</td>\n",
       "      <td>307915</td>\n",
       "      <td>3079946</td>\n",
       "    </tr>\n",
       "  </tbody>\n",
       "</table>\n",
       "</div>"
      ],
      "text/plain": [
       "income_profile  High Income  Low Income  Middle Income\n",
       "Region                                                \n",
       "Midwest             2684901      287467        2739388\n",
       "Northeast           1989949      216982        2108340\n",
       "South               3679956      427488        4021642\n",
       "West                2870903      307915        3079946"
      ]
     },
     "execution_count": 70,
     "metadata": {},
     "output_type": "execute_result"
    }
   ],
   "source": [
    "crosstab_income_profile_region"
   ]
  },
  {
   "cell_type": "code",
   "execution_count": 71,
   "id": "2009cde2",
   "metadata": {},
   "outputs": [
    {
     "data": {
      "text/plain": [
       "<matplotlib.legend.Legend at 0x1b79b696e80>"
      ]
     },
     "execution_count": 71,
     "metadata": {},
     "output_type": "execute_result"
    },
    {
     "data": {
      "image/png": "[encoded data removed]",
      "text/plain": [
       "<Figure size 432x288 with 1 Axes>"
      ]
     },
     "metadata": {
      "needs_background": "light"
     },
     "output_type": "display_data"
    }
   ],
   "source": [
    "# Income_profile by region stacked bar chart\n",
    "\n",
    "income_profile_region_stacked_bar = crosstab_income_profile_region.plot.bar(stacked = True)\n",
    "plt.legend(title='Income Profile by Region')"
   ]
  },
  {
   "cell_type": "code",
   "execution_count": 72,
   "id": "03608db0",
   "metadata": {},
   "outputs": [],
   "source": [
    "# Export income_profile_region_stacked_bar as image file to Visualizations folder\n",
    "\n",
    "income_profile_region_stacked_bar.figure.savefig(os.path.join(path, '04 Analysis','Visualizations', 'income_profile_region_stacked_bar.png'))"
   ]
  },
  {
   "cell_type": "code",
   "execution_count": 73,
   "id": "32e1f3d8",
   "metadata": {},
   "outputs": [],
   "source": [
    "# Income_profile by department\n",
    "\n",
    "crosstab_income_profile_department = pd.crosstab(ords_prods_cust['department_id'],ords_prods_cust['income_profile'], dropna=False )"
   ]
  },
  {
   "cell_type": "code",
   "execution_count": 74,
   "id": "2846a6cc",
   "metadata": {},
   "outputs": [
    {
     "data": {
      "text/html": [
       "<div>\n",
       "<style scoped>\n",
       "    .dataframe tbody tr th:only-of-type {\n",
       "        vertical-align: middle;\n",
       "    }\n",
       "\n",
       "    .dataframe tbody tr th {\n",
       "        vertical-align: top;\n",
       "    }\n",
       "\n",
       "    .dataframe thead th {\n",
       "        text-align: right;\n",
       "    }\n",
       "</style>\n",
       "<table border=\"1\" class=\"dataframe\">\n",
       "  <thead>\n",
       "    <tr style=\"text-align: right;\">\n",
       "      <th>income_profile</th>\n",
       "      <th>High Income</th>\n",
       "      <th>Low Income</th>\n",
       "      <th>Middle Income</th>\n",
       "    </tr>\n",
       "    <tr>\n",
       "      <th>department_id</th>\n",
       "      <th></th>\n",
       "      <th></th>\n",
       "      <th></th>\n",
       "    </tr>\n",
       "  </thead>\n",
       "  <tbody>\n",
       "    <tr>\n",
       "      <th>1</th>\n",
       "      <td>762481</td>\n",
       "      <td>75687</td>\n",
       "      <td>789446</td>\n",
       "    </tr>\n",
       "    <tr>\n",
       "      <th>2</th>\n",
       "      <td>12518</td>\n",
       "      <td>1535</td>\n",
       "      <td>13113</td>\n",
       "    </tr>\n",
       "    <tr>\n",
       "      <th>3</th>\n",
       "      <td>417038</td>\n",
       "      <td>37613</td>\n",
       "      <td>428679</td>\n",
       "    </tr>\n",
       "    <tr>\n",
       "      <th>4</th>\n",
       "      <td>3377215</td>\n",
       "      <td>293668</td>\n",
       "      <td>3556208</td>\n",
       "    </tr>\n",
       "    <tr>\n",
       "      <th>5</th>\n",
       "      <td>52542</td>\n",
       "      <td>6052</td>\n",
       "      <td>49378</td>\n",
       "    </tr>\n",
       "    <tr>\n",
       "      <th>6</th>\n",
       "      <td>92806</td>\n",
       "      <td>7494</td>\n",
       "      <td>97600</td>\n",
       "    </tr>\n",
       "    <tr>\n",
       "      <th>7</th>\n",
       "      <td>894607</td>\n",
       "      <td>149568</td>\n",
       "      <td>992272</td>\n",
       "    </tr>\n",
       "    <tr>\n",
       "      <th>8</th>\n",
       "      <td>35242</td>\n",
       "      <td>3349</td>\n",
       "      <td>33520</td>\n",
       "    </tr>\n",
       "    <tr>\n",
       "      <th>9</th>\n",
       "      <td>304051</td>\n",
       "      <td>21237</td>\n",
       "      <td>308437</td>\n",
       "    </tr>\n",
       "    <tr>\n",
       "      <th>10</th>\n",
       "      <td>11691</td>\n",
       "      <td>1835</td>\n",
       "      <td>14032</td>\n",
       "    </tr>\n",
       "    <tr>\n",
       "      <th>11</th>\n",
       "      <td>149999</td>\n",
       "      <td>17100</td>\n",
       "      <td>161381</td>\n",
       "    </tr>\n",
       "    <tr>\n",
       "      <th>12</th>\n",
       "      <td>260903</td>\n",
       "      <td>9430</td>\n",
       "      <td>253557</td>\n",
       "    </tr>\n",
       "    <tr>\n",
       "      <th>13</th>\n",
       "      <td>654518</td>\n",
       "      <td>57906</td>\n",
       "      <td>672951</td>\n",
       "    </tr>\n",
       "    <tr>\n",
       "      <th>14</th>\n",
       "      <td>233195</td>\n",
       "      <td>35799</td>\n",
       "      <td>255951</td>\n",
       "    </tr>\n",
       "    <tr>\n",
       "      <th>15</th>\n",
       "      <td>379052</td>\n",
       "      <td>25750</td>\n",
       "      <td>382988</td>\n",
       "    </tr>\n",
       "    <tr>\n",
       "      <th>16</th>\n",
       "      <td>1916851</td>\n",
       "      <td>182489</td>\n",
       "      <td>2021148</td>\n",
       "    </tr>\n",
       "    <tr>\n",
       "      <th>17</th>\n",
       "      <td>247132</td>\n",
       "      <td>32097</td>\n",
       "      <td>260120</td>\n",
       "    </tr>\n",
       "    <tr>\n",
       "      <th>18</th>\n",
       "      <td>161364</td>\n",
       "      <td>9841</td>\n",
       "      <td>164742</td>\n",
       "    </tr>\n",
       "    <tr>\n",
       "      <th>19</th>\n",
       "      <td>874919</td>\n",
       "      <td>229613</td>\n",
       "      <td>1082589</td>\n",
       "    </tr>\n",
       "    <tr>\n",
       "      <th>20</th>\n",
       "      <td>361441</td>\n",
       "      <td>39061</td>\n",
       "      <td>382509</td>\n",
       "    </tr>\n",
       "    <tr>\n",
       "      <th>21</th>\n",
       "      <td>26144</td>\n",
       "      <td>2728</td>\n",
       "      <td>28695</td>\n",
       "    </tr>\n",
       "  </tbody>\n",
       "</table>\n",
       "</div>"
      ],
      "text/plain": [
       "income_profile  High Income  Low Income  Middle Income\n",
       "department_id                                         \n",
       "1                    762481       75687         789446\n",
       "2                     12518        1535          13113\n",
       "3                    417038       37613         428679\n",
       "4                   3377215      293668        3556208\n",
       "5                     52542        6052          49378\n",
       "6                     92806        7494          97600\n",
       "7                    894607      149568         992272\n",
       "8                     35242        3349          33520\n",
       "9                    304051       21237         308437\n",
       "10                    11691        1835          14032\n",
       "11                   149999       17100         161381\n",
       "12                   260903        9430         253557\n",
       "13                   654518       57906         672951\n",
       "14                   233195       35799         255951\n",
       "15                   379052       25750         382988\n",
       "16                  1916851      182489        2021148\n",
       "17                   247132       32097         260120\n",
       "18                   161364        9841         164742\n",
       "19                   874919      229613        1082589\n",
       "20                   361441       39061         382509\n",
       "21                    26144        2728          28695"
      ]
     },
     "execution_count": 74,
     "metadata": {},
     "output_type": "execute_result"
    }
   ],
   "source": [
    "crosstab_income_profile_department"
   ]
  },
  {
   "cell_type": "code",
   "execution_count": 75,
   "id": "b34f4e90",
   "metadata": {},
   "outputs": [
    {
     "data": {
      "text/plain": [
       "<matplotlib.legend.Legend at 0x1b79b7eefd0>"
      ]
     },
     "execution_count": 75,
     "metadata": {},
     "output_type": "execute_result"
    },
    {
     "data": {
      "image/png": "[encoded data removed]",
      "text/plain": [
       "<Figure size 432x288 with 1 Axes>"
      ]
     },
     "metadata": {
      "needs_background": "light"
     },
     "output_type": "display_data"
    }
   ],
   "source": [
    "# Income_profile by department stacked bar chart\n",
    "\n",
    "income_profile_department_stacked_bar = crosstab_income_profile_department.plot.bar(stacked = True)\n",
    "plt.legend(title='Income Profile by Department')"
   ]
  },
  {
   "cell_type": "code",
   "execution_count": 76,
   "id": "f2e1c4c0",
   "metadata": {},
   "outputs": [],
   "source": [
    "# Export income_profile_department_stacked_bar as image file to Visualizations folder\n",
    "\n",
    "income_profile_department_stacked_bar.figure.savefig(os.path.join(path, '04 Analysis','Visualizations', 'income_profile_department_stacked_bar.png'))"
   ]
  },
  {
   "cell_type": "code",
   "execution_count": 81,
   "id": "7170bd91",
   "metadata": {},
   "outputs": [],
   "source": [
    "# All departments by region\n",
    "\n",
    "crosstab_all_departments_region = pd.crosstab(ords_prods_cust['department_id'],ords_prods_cust['Region'], dropna=False )"
   ]
  },
  {
   "cell_type": "code",
   "execution_count": 82,
   "id": "fc84bf91",
   "metadata": {},
   "outputs": [
    {
     "data": {
      "text/html": [
       "<div>\n",
       "<style scoped>\n",
       "    .dataframe tbody tr th:only-of-type {\n",
       "        vertical-align: middle;\n",
       "    }\n",
       "\n",
       "    .dataframe tbody tr th {\n",
       "        vertical-align: top;\n",
       "    }\n",
       "\n",
       "    .dataframe thead th {\n",
       "        text-align: right;\n",
       "    }\n",
       "</style>\n",
       "<table border=\"1\" class=\"dataframe\">\n",
       "  <thead>\n",
       "    <tr style=\"text-align: right;\">\n",
       "      <th>Region</th>\n",
       "      <th>Midwest</th>\n",
       "      <th>Northeast</th>\n",
       "      <th>South</th>\n",
       "      <th>West</th>\n",
       "    </tr>\n",
       "    <tr>\n",
       "      <th>department_id</th>\n",
       "      <th></th>\n",
       "      <th></th>\n",
       "      <th></th>\n",
       "      <th></th>\n",
       "    </tr>\n",
       "  </thead>\n",
       "  <tbody>\n",
       "    <tr>\n",
       "      <th>1</th>\n",
       "      <td>381094</td>\n",
       "      <td>283259</td>\n",
       "      <td>545809</td>\n",
       "      <td>417452</td>\n",
       "    </tr>\n",
       "    <tr>\n",
       "      <th>2</th>\n",
       "      <td>6284</td>\n",
       "      <td>4932</td>\n",
       "      <td>9200</td>\n",
       "      <td>6750</td>\n",
       "    </tr>\n",
       "    <tr>\n",
       "      <th>3</th>\n",
       "      <td>205374</td>\n",
       "      <td>157635</td>\n",
       "      <td>292772</td>\n",
       "      <td>227549</td>\n",
       "    </tr>\n",
       "    <tr>\n",
       "      <th>4</th>\n",
       "      <td>1695851</td>\n",
       "      <td>1269360</td>\n",
       "      <td>2409221</td>\n",
       "      <td>1852659</td>\n",
       "    </tr>\n",
       "    <tr>\n",
       "      <th>5</th>\n",
       "      <td>25567</td>\n",
       "      <td>18534</td>\n",
       "      <td>36253</td>\n",
       "      <td>27618</td>\n",
       "    </tr>\n",
       "    <tr>\n",
       "      <th>6</th>\n",
       "      <td>46607</td>\n",
       "      <td>34491</td>\n",
       "      <td>65417</td>\n",
       "      <td>51385</td>\n",
       "    </tr>\n",
       "    <tr>\n",
       "      <th>7</th>\n",
       "      <td>472243</td>\n",
       "      <td>367868</td>\n",
       "      <td>680594</td>\n",
       "      <td>515742</td>\n",
       "    </tr>\n",
       "    <tr>\n",
       "      <th>8</th>\n",
       "      <td>16481</td>\n",
       "      <td>14080</td>\n",
       "      <td>23012</td>\n",
       "      <td>18538</td>\n",
       "    </tr>\n",
       "    <tr>\n",
       "      <th>9</th>\n",
       "      <td>148529</td>\n",
       "      <td>110708</td>\n",
       "      <td>210680</td>\n",
       "      <td>163808</td>\n",
       "    </tr>\n",
       "    <tr>\n",
       "      <th>10</th>\n",
       "      <td>6488</td>\n",
       "      <td>4598</td>\n",
       "      <td>9184</td>\n",
       "      <td>7288</td>\n",
       "    </tr>\n",
       "    <tr>\n",
       "      <th>11</th>\n",
       "      <td>77792</td>\n",
       "      <td>57861</td>\n",
       "      <td>110474</td>\n",
       "      <td>82353</td>\n",
       "    </tr>\n",
       "    <tr>\n",
       "      <th>12</th>\n",
       "      <td>122137</td>\n",
       "      <td>92309</td>\n",
       "      <td>173933</td>\n",
       "      <td>135511</td>\n",
       "    </tr>\n",
       "    <tr>\n",
       "      <th>13</th>\n",
       "      <td>326376</td>\n",
       "      <td>243728</td>\n",
       "      <td>458526</td>\n",
       "      <td>356745</td>\n",
       "    </tr>\n",
       "    <tr>\n",
       "      <th>14</th>\n",
       "      <td>121761</td>\n",
       "      <td>92657</td>\n",
       "      <td>174421</td>\n",
       "      <td>136106</td>\n",
       "    </tr>\n",
       "    <tr>\n",
       "      <th>15</th>\n",
       "      <td>184194</td>\n",
       "      <td>137950</td>\n",
       "      <td>263145</td>\n",
       "      <td>202501</td>\n",
       "    </tr>\n",
       "    <tr>\n",
       "      <th>16</th>\n",
       "      <td>962300</td>\n",
       "      <td>729754</td>\n",
       "      <td>1371620</td>\n",
       "      <td>1056814</td>\n",
       "    </tr>\n",
       "    <tr>\n",
       "      <th>17</th>\n",
       "      <td>128464</td>\n",
       "      <td>96427</td>\n",
       "      <td>176971</td>\n",
       "      <td>137487</td>\n",
       "    </tr>\n",
       "    <tr>\n",
       "      <th>18</th>\n",
       "      <td>78496</td>\n",
       "      <td>59555</td>\n",
       "      <td>113970</td>\n",
       "      <td>83926</td>\n",
       "    </tr>\n",
       "    <tr>\n",
       "      <th>19</th>\n",
       "      <td>509148</td>\n",
       "      <td>389733</td>\n",
       "      <td>724967</td>\n",
       "      <td>563273</td>\n",
       "    </tr>\n",
       "    <tr>\n",
       "      <th>20</th>\n",
       "      <td>182735</td>\n",
       "      <td>139553</td>\n",
       "      <td>259644</td>\n",
       "      <td>201079</td>\n",
       "    </tr>\n",
       "    <tr>\n",
       "      <th>21</th>\n",
       "      <td>13835</td>\n",
       "      <td>10279</td>\n",
       "      <td>19273</td>\n",
       "      <td>14180</td>\n",
       "    </tr>\n",
       "  </tbody>\n",
       "</table>\n",
       "</div>"
      ],
      "text/plain": [
       "Region         Midwest  Northeast    South     West\n",
       "department_id                                      \n",
       "1               381094     283259   545809   417452\n",
       "2                 6284       4932     9200     6750\n",
       "3               205374     157635   292772   227549\n",
       "4              1695851    1269360  2409221  1852659\n",
       "5                25567      18534    36253    27618\n",
       "6                46607      34491    65417    51385\n",
       "7               472243     367868   680594   515742\n",
       "8                16481      14080    23012    18538\n",
       "9               148529     110708   210680   163808\n",
       "10                6488       4598     9184     7288\n",
       "11               77792      57861   110474    82353\n",
       "12              122137      92309   173933   135511\n",
       "13              326376     243728   458526   356745\n",
       "14              121761      92657   174421   136106\n",
       "15              184194     137950   263145   202501\n",
       "16              962300     729754  1371620  1056814\n",
       "17              128464      96427   176971   137487\n",
       "18               78496      59555   113970    83926\n",
       "19              509148     389733   724967   563273\n",
       "20              182735     139553   259644   201079\n",
       "21               13835      10279    19273    14180"
      ]
     },
     "execution_count": 82,
     "metadata": {},
     "output_type": "execute_result"
    }
   ],
   "source": [
    "crosstab_all_departments_region"
   ]
  },
  {
   "cell_type": "code",
   "execution_count": 83,
   "id": "fec207fd",
   "metadata": {},
   "outputs": [
    {
     "data": {
      "text/plain": [
       "<matplotlib.legend.Legend at 0x1b79bc9c220>"
      ]
     },
     "execution_count": 83,
     "metadata": {},
     "output_type": "execute_result"
    },
    {
     "data": {
      "image/png": "[encoded data removed]",
      "text/plain": [
       "<Figure size 432x288 with 1 Axes>"
      ]
     },
     "metadata": {
      "needs_background": "light"
     },
     "output_type": "display_data"
    }
   ],
   "source": [
    "# All departments by region stacked bar chart\n",
    "\n",
    "all_departments_region_stacked_bar = crosstab_all_departments_region.plot.bar(stacked = True)\n",
    "plt.legend(title='Departments and Region')"
   ]
  },
  {
   "cell_type": "markdown",
   "id": "39b16757",
   "metadata": {},
   "source": [
    "## 09. Export final data set"
   ]
  },
  {
   "cell_type": "code",
   "execution_count": null,
   "id": "f0bb8e99",
   "metadata": {},
   "outputs": [],
   "source": [
    "# Export ords_prods_cust to Prepared data folder\n",
    "\n",
    "ords_prods_cust.to_pickle(os.path.join(path, '02 Data', 'Prepared Data', 'ords_prods_cust.pkl'))"
   ]
  },
  {
   "cell_type": "code",
   "execution_count": null,
   "id": "8e70f7c6",
   "metadata": {},
   "outputs": [],
   "source": []
  }
 ],
 "metadata": {
  "kernelspec": {
   "display_name": "Python 3",
   "language": "python",
   "name": "python3"
  },
  "language_info": {
   "codemirror_mode": {
    "name": "ipython",
    "version": 3
   },
   "file_extension": ".py",
   "mimetype": "text/x-python",
   "name": "python",
   "nbconvert_exporter": "python",
   "pygments_lexer": "ipython3",
   "version": "3.8.8"
  }
 },
 "nbformat": 4,
 "nbformat_minor": 5
}
